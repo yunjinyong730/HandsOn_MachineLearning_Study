{
 "cells": [
  {
   "cell_type": "markdown",
   "id": "b90284df-39b9-42d8-8200-d51782d2127b",
   "metadata": {},
   "source": [
    "# 분류\n",
    "- 이번 장에서는 분류 시스템을 집중적으로 다루겠다."
   ]
  },
  {
   "cell_type": "markdown",
   "id": "af45bdbc-f20e-4991-b0ab-d33bd7e96869",
   "metadata": {},
   "source": [
    "## 설정"
   ]
  },
  {
   "cell_type": "code",
   "execution_count": 51,
   "id": "43c39f5f-2dde-41d6-8e5a-f1dd954baa66",
   "metadata": {},
   "outputs": [],
   "source": [
    "# 파이썬 2와 파이썬 3 지원\n",
    "from __future__ import division, print_function, unicode_literals\n",
    "\n",
    "# 공통\n",
    "import numpy as np\n",
    "import os\n",
    "\n",
    "\n",
    "# 일관된 출력을 위해 유사난수 초기화\n",
    "np.random.seed(42)\n",
    "\n",
    "# 그림을 저장할 폴드\n",
    "PROJECT_ROOT_DIR = \".\"\n",
    "CHAPTER_ID = \"classification\"\n",
    "\n",
    "def save_fig(fig_id, tight_layout=True):\n",
    "    path = os.path.join(PROJECT_ROOT_DIR, \"images\", CHAPTER_ID, fig_id + \".png\")\n",
    "    if tight_layout:\n",
    "        plt.tight_layout()\n",
    "    plt.savefig(path, format='png', dpi=300)"
   ]
  },
  {
   "cell_type": "markdown",
   "id": "7600c986-121e-4949-ad47-3d13bc6f3c94",
   "metadata": {},
   "source": [
    "이번 장에서는 고등학생과 미국 인구조사국 직원들이 손으로 직접 쓴 70000개의 작은 숫자 이미지, MNIST 데이터셋을 사용하겠다.\n",
    "각 이미지에는 어떤 숫자를 나타내는지 레이블이 달려있다.\n",
    "너무도 많이 사용되기 때문에 머신러닝 분야의 Hello World라고 불린다.\n",
    "다음은 MNIST 셋을 다운로드 받는 코드이다."
   ]
  },
  {
   "cell_type": "code",
   "execution_count": 2,
   "id": "81dcd905-0bbe-44aa-b5e2-cfddf2bb27d9",
   "metadata": {},
   "outputs": [
    {
     "data": {
      "text/plain": [
       "dict_keys(['data', 'target', 'frame', 'categories', 'feature_names', 'target_names', 'DESCR', 'details', 'url'])"
      ]
     },
     "execution_count": 2,
     "metadata": {},
     "output_type": "execute_result"
    }
   ],
   "source": [
    "from sklearn.datasets import fetch_openml\n",
    "mnist = fetch_openml('mnist_784', version=1, as_frame=False) #⚠️ 특정 버전 이상부터는 as_frame에 false넣어야 pandas.dataFrame이 아닌 np.array로 리턴됨!\n",
    "mnist.keys()"
   ]
  },
  {
   "cell_type": "markdown",
   "id": "e5b12a54-a7fa-49f8-a001-c5623a2f8501",
   "metadata": {},
   "source": [
    "위에처럼 사이킷런에서 읽어 들인 데이터셋들은 일반적으로 비슷한 딕셔너리 구조를 갖고 있다.\n",
    "여러가지 키가 있지만 그중 대표적인 키는 DESCR(데이터셋을 설명하는 DESCR 키), data(샘플이 하나의 행, 특성이 하나의 열로 구성된 말 그대로 데이터가 담긴 배열), target(레이블 배열을 담고 있다.)가 있다.\n",
    "이 배열들을 살펴보자!"
   ]
  },
  {
   "cell_type": "code",
   "execution_count": 3,
   "id": "ad3fc584-332a-41f3-9a04-67464b7a5ed5",
   "metadata": {},
   "outputs": [
    {
     "data": {
      "text/plain": [
       "(70000, 784)"
      ]
     },
     "execution_count": 3,
     "metadata": {},
     "output_type": "execute_result"
    }
   ],
   "source": [
    "X, y = mnist[\"data\"], mnist[\"target\"]\n",
    "X.shape"
   ]
  },
  {
   "cell_type": "code",
   "execution_count": 4,
   "id": "05daa80c-1c38-4292-964f-3f331f954e99",
   "metadata": {},
   "outputs": [
    {
     "data": {
      "text/plain": [
       "(70000,)"
      ]
     },
     "execution_count": 4,
     "metadata": {},
     "output_type": "execute_result"
    }
   ],
   "source": [
    "y.shape"
   ]
  },
  {
   "cell_type": "markdown",
   "id": "c5e2397a-7fce-4315-aca2-f56e912537c5",
   "metadata": {},
   "source": [
    "데이터 키와 대응되는 value에는 이미지가 70,000개 있고 각 이미지에는 784개의 feature가 있다. \n",
    "이미지가 28*28 픽셀이기 떄문이다. 각 픽셀에 해당하는 intensity를 전부 갖고 있는 것이다.\n",
    "데이터셋에서 이미지 하나를 뽑아서 확인해보자.\n",
    "샘플의 특성 벡터를 추출해서 28*28 배열로 크기를 바꾸고 matplotlib의 imshow() 함수를 사용해 그리면 된다."
   ]
  },
  {
   "cell_type": "code",
   "execution_count": 5,
   "id": "e9dc2d93-4b99-4a8e-8763-8af9944da306",
   "metadata": {},
   "outputs": [
    {
     "data": {
      "image/png": "[encoded data removed]",
      "text/plain": [
       "<Figure size 640x480 with 1 Axes>"
      ]
     },
     "metadata": {},
     "output_type": "display_data"
    }
   ],
   "source": [
    "import matplotlib as mpl\n",
    "import matplotlib.pyplot as plt\n",
    "\n",
    "some_digit = X[0]\n",
    "some_digit_image = some_digit.reshape(28, 28)\n",
    "\n",
    "plt.imshow(some_digit_image, cmap=\"binary\")\n",
    "plt.axis(\"off\")\n",
    "plt.show()"
   ]
  },
  {
   "cell_type": "markdown",
   "id": "42d624c5-8657-4048-bc09-75f3fbda1959",
   "metadata": {},
   "source": [
    "레이블은 문자열로 되어있기 때문에 이를 정수로 변경해준다."
   ]
  },
  {
   "cell_type": "code",
   "execution_count": 6,
   "id": "f9b5eb22-48fb-467e-82f0-ee32f36a0579",
   "metadata": {},
   "outputs": [],
   "source": [
    "y = y.astype(np.uint8)"
   ]
  },
  {
   "cell_type": "markdown",
   "id": "cbda1b5e-912e-46f6-8d0e-a45cffbe27b2",
   "metadata": {},
   "source": [
    "앞장에서 배웠듯이 데이터를 자세히 조사하기 전에 항상 테스트 세트를 만들고 따로 떼어놓아야한다. \n",
    "사실 MNIST 데이터셋은 이미 훈련 세트(이미지 60000개)와 테스트 세트(뒤쪽 10000개)로 나누어놓았다."
   ]
  },
  {
   "cell_type": "code",
   "execution_count": 7,
   "id": "c8191d3c-217c-4eed-b739-ff5f67a39065",
   "metadata": {},
   "outputs": [],
   "source": [
    "X_train, X_test, y_train, y_test = X[:60000], X[60000:], y[:60000], y[60000:]"
   ]
  },
  {
   "cell_type": "markdown",
   "id": "e5ad3a30-9113-48c6-8651-b72b8c676943",
   "metadata": {},
   "source": [
    "훈련 세트는 이미 섞여 있어서 모든 교차 검증 폴드를 비슷한 비율로 맞춘다.\n",
    "\n",
    "# 이진 분류기 훈련"
   ]
  },
  {
   "cell_type": "markdown",
   "id": "d01465fc-4a1c-454f-8574-217c1402f511",
   "metadata": {},
   "source": [
    "문제를 단순화해서 하나의 숫자만 식별해보자. 예를 들어 5라고 한다면, 5와 5아님 이 두 개의 클래스를 구분할 수 있는 것이\n",
    "바로 이진 분류기라고 한다.\n",
    "먼저 분류 작업을 위한 타깃 벡터를 만들어보자."
   ]
  },
  {
   "cell_type": "code",
   "execution_count": 8,
   "id": "be25faaf-8dd3-4bd5-8941-f3c9f39f820d",
   "metadata": {},
   "outputs": [],
   "source": [
    "y_train_5 = (y_train == 5) # 5는 True, 다른 숫자는 모두 False\n",
    "y_test_5 = (y_test == 5)"
   ]
  },
  {
   "cell_type": "markdown",
   "id": "11bf0f33-1ddb-431f-b7d6-dfa83528841d",
   "metadata": {},
   "source": [
    "이제 분류 모델을 하나 선택해서 훈련시켜보자.\n",
    "SGDClassifier 클래스를 사용해 확률적 경사 하강법 분류기로 시작하는 것이 좋을 것 같다.\n",
    "이 SGDClassifier는 매우 큰 데이터셋을 효율적으로 처리하는 장점을 갖고 있다. \n",
    "(SGD가 한 번에 하나씩 훈련 샘플을 독립적으로 처리하기 때문이다.)\n",
    "SGDClassifier 모델을 만들고 전체 훈련 세트를 사용해 훈련시켜보자."
   ]
  },
  {
   "cell_type": "code",
   "execution_count": 9,
   "id": "c1460c86-c886-4564-b5db-9699f397ad99",
   "metadata": {},
   "outputs": [
    {
     "data": {
      "text/html": [
       "<style>#sk-container-id-1 {\n",
       "  /* Definition of color scheme common for light and dark mode */\n",
       "  --sklearn-color-text: black;\n",
       "  --sklearn-color-line: gray;\n",
       "  /* Definition of color scheme for unfitted estimators */\n",
       "  --sklearn-color-unfitted-level-0: #fff5e6;\n",
       "  --sklearn-color-unfitted-level-1: #f6e4d2;\n",
       "  --sklearn-color-unfitted-level-2: #ffe0b3;\n",
       "  --sklearn-color-unfitted-level-3: chocolate;\n",
       "  /* Definition of color scheme for fitted estimators */\n",
       "  --sklearn-color-fitted-level-0: #f0f8ff;\n",
       "  --sklearn-color-fitted-level-1: #d4ebff;\n",
       "  --sklearn-color-fitted-level-2: #b3dbfd;\n",
       "  --sklearn-color-fitted-level-3: cornflowerblue;\n",
       "\n",
       "  /* Specific color for light theme */\n",
       "  --sklearn-color-text-on-default-background: var(--sg-text-color, var(--theme-code-foreground, var(--jp-content-font-color1, black)));\n",
       "  --sklearn-color-background: var(--sg-background-color, var(--theme-background, var(--jp-layout-color0, white)));\n",
       "  --sklearn-color-border-box: var(--sg-text-color, var(--theme-code-foreground, var(--jp-content-font-color1, black)));\n",
       "  --sklearn-color-icon: #696969;\n",
       "\n",
       "  @media (prefers-color-scheme: dark) {\n",
       "    /* Redefinition of color scheme for dark theme */\n",
       "    --sklearn-color-text-on-default-background: var(--sg-text-color, var(--theme-code-foreground, var(--jp-content-font-color1, white)));\n",
       "    --sklearn-color-background: var(--sg-background-color, var(--theme-background, var(--jp-layout-color0, #111)));\n",
       "    --sklearn-color-border-box: var(--sg-text-color, var(--theme-code-foreground, var(--jp-content-font-color1, white)));\n",
       "    --sklearn-color-icon: #878787;\n",
       "  }\n",
       "}\n",
       "\n",
       "#sk-container-id-1 {\n",
       "  color: var(--sklearn-color-text);\n",
       "}\n",
       "\n",
       "#sk-container-id-1 pre {\n",
       "  padding: 0;\n",
       "}\n",
       "\n",
       "#sk-container-id-1 input.sk-hidden--visually {\n",
       "  border: 0;\n",
       "  clip: rect(1px 1px 1px 1px);\n",
       "  clip: rect(1px, 1px, 1px, 1px);\n",
       "  height: 1px;\n",
       "  margin: -1px;\n",
       "  overflow: hidden;\n",
       "  padding: 0;\n",
       "  position: absolute;\n",
       "  width: 1px;\n",
       "}\n",
       "\n",
       "#sk-container-id-1 div.sk-dashed-wrapped {\n",
       "  border: 1px dashed var(--sklearn-color-line);\n",
       "  margin: 0 0.4em 0.5em 0.4em;\n",
       "  box-sizing: border-box;\n",
       "  padding-bottom: 0.4em;\n",
       "  background-color: var(--sklearn-color-background);\n",
       "}\n",
       "\n",
       "#sk-container-id-1 div.sk-container {\n",
       "  /* jupyter's `normalize.less` sets `[hidden] { display: none; }`\n",
       "     but bootstrap.min.css set `[hidden] { display: none !important; }`\n",
       "     so we also need the `!important` here to be able to override the\n",
       "     default hidden behavior on the sphinx rendered scikit-learn.org.\n",
       "     See: https://github.com/scikit-learn/scikit-learn/issues/21755 */\n",
       "  display: inline-block !important;\n",
       "  position: relative;\n",
       "}\n",
       "\n",
       "#sk-container-id-1 div.sk-text-repr-fallback {\n",
       "  display: none;\n",
       "}\n",
       "\n",
       "div.sk-parallel-item,\n",
       "div.sk-serial,\n",
       "div.sk-item {\n",
       "  /* draw centered vertical line to link estimators */\n",
       "  background-image: linear-gradient(var(--sklearn-color-text-on-default-background), var(--sklearn-color-text-on-default-background));\n",
       "  background-size: 2px 100%;\n",
       "  background-repeat: no-repeat;\n",
       "  background-position: center center;\n",
       "}\n",
       "\n",
       "/* Parallel-specific style estimator block */\n",
       "\n",
       "#sk-container-id-1 div.sk-parallel-item::after {\n",
       "  content: \"\";\n",
       "  width: 100%;\n",
       "  border-bottom: 2px solid var(--sklearn-color-text-on-default-background);\n",
       "  flex-grow: 1;\n",
       "}\n",
       "\n",
       "#sk-container-id-1 div.sk-parallel {\n",
       "  display: flex;\n",
       "  align-items: stretch;\n",
       "  justify-content: center;\n",
       "  background-color: var(--sklearn-color-background);\n",
       "  position: relative;\n",
       "}\n",
       "\n",
       "#sk-container-id-1 div.sk-parallel-item {\n",
       "  display: flex;\n",
       "  flex-direction: column;\n",
       "}\n",
       "\n",
       "#sk-container-id-1 div.sk-parallel-item:first-child::after {\n",
       "  align-self: flex-end;\n",
       "  width: 50%;\n",
       "}\n",
       "\n",
       "#sk-container-id-1 div.sk-parallel-item:last-child::after {\n",
       "  align-self: flex-start;\n",
       "  width: 50%;\n",
       "}\n",
       "\n",
       "#sk-container-id-1 div.sk-parallel-item:only-child::after {\n",
       "  width: 0;\n",
       "}\n",
       "\n",
       "/* Serial-specific style estimator block */\n",
       "\n",
       "#sk-container-id-1 div.sk-serial {\n",
       "  display: flex;\n",
       "  flex-direction: column;\n",
       "  align-items: center;\n",
       "  background-color: var(--sklearn-color-background);\n",
       "  padding-right: 1em;\n",
       "  padding-left: 1em;\n",
       "}\n",
       "\n",
       "\n",
       "/* Toggleable style: style used for estimator/Pipeline/ColumnTransformer box that is\n",
       "clickable and can be expanded/collapsed.\n",
       "- Pipeline and ColumnTransformer use this feature and define the default style\n",
       "- Estimators will overwrite some part of the style using the `sk-estimator` class\n",
       "*/\n",
       "\n",
       "/* Pipeline and ColumnTransformer style (default) */\n",
       "\n",
       "#sk-container-id-1 div.sk-toggleable {\n",
       "  /* Default theme specific background. It is overwritten whether we have a\n",
       "  specific estimator or a Pipeline/ColumnTransformer */\n",
       "  background-color: var(--sklearn-color-background);\n",
       "}\n",
       "\n",
       "/* Toggleable label */\n",
       "#sk-container-id-1 label.sk-toggleable__label {\n",
       "  cursor: pointer;\n",
       "  display: block;\n",
       "  width: 100%;\n",
       "  margin-bottom: 0;\n",
       "  padding: 0.5em;\n",
       "  box-sizing: border-box;\n",
       "  text-align: center;\n",
       "}\n",
       "\n",
       "#sk-container-id-1 label.sk-toggleable__label-arrow:before {\n",
       "  /* Arrow on the left of the label */\n",
       "  content: \"▸\";\n",
       "  float: left;\n",
       "  margin-right: 0.25em;\n",
       "  color: var(--sklearn-color-icon);\n",
       "}\n",
       "\n",
       "#sk-container-id-1 label.sk-toggleable__label-arrow:hover:before {\n",
       "  color: var(--sklearn-color-text);\n",
       "}\n",
       "\n",
       "/* Toggleable content - dropdown */\n",
       "\n",
       "#sk-container-id-1 div.sk-toggleable__content {\n",
       "  max-height: 0;\n",
       "  max-width: 0;\n",
       "  overflow: hidden;\n",
       "  text-align: left;\n",
       "  /* unfitted */\n",
       "  background-color: var(--sklearn-color-unfitted-level-0);\n",
       "}\n",
       "\n",
       "#sk-container-id-1 div.sk-toggleable__content.fitted {\n",
       "  /* fitted */\n",
       "  background-color: var(--sklearn-color-fitted-level-0);\n",
       "}\n",
       "\n",
       "#sk-container-id-1 div.sk-toggleable__content pre {\n",
       "  margin: 0.2em;\n",
       "  border-radius: 0.25em;\n",
       "  color: var(--sklearn-color-text);\n",
       "  /* unfitted */\n",
       "  background-color: var(--sklearn-color-unfitted-level-0);\n",
       "}\n",
       "\n",
       "#sk-container-id-1 div.sk-toggleable__content.fitted pre {\n",
       "  /* unfitted */\n",
       "  background-color: var(--sklearn-color-fitted-level-0);\n",
       "}\n",
       "\n",
       "#sk-container-id-1 input.sk-toggleable__control:checked~div.sk-toggleable__content {\n",
       "  /* Expand drop-down */\n",
       "  max-height: 200px;\n",
       "  max-width: 100%;\n",
       "  overflow: auto;\n",
       "}\n",
       "\n",
       "#sk-container-id-1 input.sk-toggleable__control:checked~label.sk-toggleable__label-arrow:before {\n",
       "  content: \"▾\";\n",
       "}\n",
       "\n",
       "/* Pipeline/ColumnTransformer-specific style */\n",
       "\n",
       "#sk-container-id-1 div.sk-label input.sk-toggleable__control:checked~label.sk-toggleable__label {\n",
       "  color: var(--sklearn-color-text);\n",
       "  background-color: var(--sklearn-color-unfitted-level-2);\n",
       "}\n",
       "\n",
       "#sk-container-id-1 div.sk-label.fitted input.sk-toggleable__control:checked~label.sk-toggleable__label {\n",
       "  background-color: var(--sklearn-color-fitted-level-2);\n",
       "}\n",
       "\n",
       "/* Estimator-specific style */\n",
       "\n",
       "/* Colorize estimator box */\n",
       "#sk-container-id-1 div.sk-estimator input.sk-toggleable__control:checked~label.sk-toggleable__label {\n",
       "  /* unfitted */\n",
       "  background-color: var(--sklearn-color-unfitted-level-2);\n",
       "}\n",
       "\n",
       "#sk-container-id-1 div.sk-estimator.fitted input.sk-toggleable__control:checked~label.sk-toggleable__label {\n",
       "  /* fitted */\n",
       "  background-color: var(--sklearn-color-fitted-level-2);\n",
       "}\n",
       "\n",
       "#sk-container-id-1 div.sk-label label.sk-toggleable__label,\n",
       "#sk-container-id-1 div.sk-label label {\n",
       "  /* The background is the default theme color */\n",
       "  color: var(--sklearn-color-text-on-default-background);\n",
       "}\n",
       "\n",
       "/* On hover, darken the color of the background */\n",
       "#sk-container-id-1 div.sk-label:hover label.sk-toggleable__label {\n",
       "  color: var(--sklearn-color-text);\n",
       "  background-color: var(--sklearn-color-unfitted-level-2);\n",
       "}\n",
       "\n",
       "/* Label box, darken color on hover, fitted */\n",
       "#sk-container-id-1 div.sk-label.fitted:hover label.sk-toggleable__label.fitted {\n",
       "  color: var(--sklearn-color-text);\n",
       "  background-color: var(--sklearn-color-fitted-level-2);\n",
       "}\n",
       "\n",
       "/* Estimator label */\n",
       "\n",
       "#sk-container-id-1 div.sk-label label {\n",
       "  font-family: monospace;\n",
       "  font-weight: bold;\n",
       "  display: inline-block;\n",
       "  line-height: 1.2em;\n",
       "}\n",
       "\n",
       "#sk-container-id-1 div.sk-label-container {\n",
       "  text-align: center;\n",
       "}\n",
       "\n",
       "/* Estimator-specific */\n",
       "#sk-container-id-1 div.sk-estimator {\n",
       "  font-family: monospace;\n",
       "  border: 1px dotted var(--sklearn-color-border-box);\n",
       "  border-radius: 0.25em;\n",
       "  box-sizing: border-box;\n",
       "  margin-bottom: 0.5em;\n",
       "  /* unfitted */\n",
       "  background-color: var(--sklearn-color-unfitted-level-0);\n",
       "}\n",
       "\n",
       "#sk-container-id-1 div.sk-estimator.fitted {\n",
       "  /* fitted */\n",
       "  background-color: var(--sklearn-color-fitted-level-0);\n",
       "}\n",
       "\n",
       "/* on hover */\n",
       "#sk-container-id-1 div.sk-estimator:hover {\n",
       "  /* unfitted */\n",
       "  background-color: var(--sklearn-color-unfitted-level-2);\n",
       "}\n",
       "\n",
       "#sk-container-id-1 div.sk-estimator.fitted:hover {\n",
       "  /* fitted */\n",
       "  background-color: var(--sklearn-color-fitted-level-2);\n",
       "}\n",
       "\n",
       "/* Specification for estimator info (e.g. \"i\" and \"?\") */\n",
       "\n",
       "/* Common style for \"i\" and \"?\" */\n",
       "\n",
       ".sk-estimator-doc-link,\n",
       "a:link.sk-estimator-doc-link,\n",
       "a:visited.sk-estimator-doc-link {\n",
       "  float: right;\n",
       "  font-size: smaller;\n",
       "  line-height: 1em;\n",
       "  font-family: monospace;\n",
       "  background-color: var(--sklearn-color-background);\n",
       "  border-radius: 1em;\n",
       "  height: 1em;\n",
       "  width: 1em;\n",
       "  text-decoration: none !important;\n",
       "  margin-left: 1ex;\n",
       "  /* unfitted */\n",
       "  border: var(--sklearn-color-unfitted-level-1) 1pt solid;\n",
       "  color: var(--sklearn-color-unfitted-level-1);\n",
       "}\n",
       "\n",
       ".sk-estimator-doc-link.fitted,\n",
       "a:link.sk-estimator-doc-link.fitted,\n",
       "a:visited.sk-estimator-doc-link.fitted {\n",
       "  /* fitted */\n",
       "  border: var(--sklearn-color-fitted-level-1) 1pt solid;\n",
       "  color: var(--sklearn-color-fitted-level-1);\n",
       "}\n",
       "\n",
       "/* On hover */\n",
       "div.sk-estimator:hover .sk-estimator-doc-link:hover,\n",
       ".sk-estimator-doc-link:hover,\n",
       "div.sk-label-container:hover .sk-estimator-doc-link:hover,\n",
       ".sk-estimator-doc-link:hover {\n",
       "  /* unfitted */\n",
       "  background-color: var(--sklearn-color-unfitted-level-3);\n",
       "  color: var(--sklearn-color-background);\n",
       "  text-decoration: none;\n",
       "}\n",
       "\n",
       "div.sk-estimator.fitted:hover .sk-estimator-doc-link.fitted:hover,\n",
       ".sk-estimator-doc-link.fitted:hover,\n",
       "div.sk-label-container:hover .sk-estimator-doc-link.fitted:hover,\n",
       ".sk-estimator-doc-link.fitted:hover {\n",
       "  /* fitted */\n",
       "  background-color: var(--sklearn-color-fitted-level-3);\n",
       "  color: var(--sklearn-color-background);\n",
       "  text-decoration: none;\n",
       "}\n",
       "\n",
       "/* Span, style for the box shown on hovering the info icon */\n",
       ".sk-estimator-doc-link span {\n",
       "  display: none;\n",
       "  z-index: 9999;\n",
       "  position: relative;\n",
       "  font-weight: normal;\n",
       "  right: .2ex;\n",
       "  padding: .5ex;\n",
       "  margin: .5ex;\n",
       "  width: min-content;\n",
       "  min-width: 20ex;\n",
       "  max-width: 50ex;\n",
       "  color: var(--sklearn-color-text);\n",
       "  box-shadow: 2pt 2pt 4pt #999;\n",
       "  /* unfitted */\n",
       "  background: var(--sklearn-color-unfitted-level-0);\n",
       "  border: .5pt solid var(--sklearn-color-unfitted-level-3);\n",
       "}\n",
       "\n",
       ".sk-estimator-doc-link.fitted span {\n",
       "  /* fitted */\n",
       "  background: var(--sklearn-color-fitted-level-0);\n",
       "  border: var(--sklearn-color-fitted-level-3);\n",
       "}\n",
       "\n",
       ".sk-estimator-doc-link:hover span {\n",
       "  display: block;\n",
       "}\n",
       "\n",
       "/* \"?\"-specific style due to the `<a>` HTML tag */\n",
       "\n",
       "#sk-container-id-1 a.estimator_doc_link {\n",
       "  float: right;\n",
       "  font-size: 1rem;\n",
       "  line-height: 1em;\n",
       "  font-family: monospace;\n",
       "  background-color: var(--sklearn-color-background);\n",
       "  border-radius: 1rem;\n",
       "  height: 1rem;\n",
       "  width: 1rem;\n",
       "  text-decoration: none;\n",
       "  /* unfitted */\n",
       "  color: var(--sklearn-color-unfitted-level-1);\n",
       "  border: var(--sklearn-color-unfitted-level-1) 1pt solid;\n",
       "}\n",
       "\n",
       "#sk-container-id-1 a.estimator_doc_link.fitted {\n",
       "  /* fitted */\n",
       "  border: var(--sklearn-color-fitted-level-1) 1pt solid;\n",
       "  color: var(--sklearn-color-fitted-level-1);\n",
       "}\n",
       "\n",
       "/* On hover */\n",
       "#sk-container-id-1 a.estimator_doc_link:hover {\n",
       "  /* unfitted */\n",
       "  background-color: var(--sklearn-color-unfitted-level-3);\n",
       "  color: var(--sklearn-color-background);\n",
       "  text-decoration: none;\n",
       "}\n",
       "\n",
       "#sk-container-id-1 a.estimator_doc_link.fitted:hover {\n",
       "  /* fitted */\n",
       "  background-color: var(--sklearn-color-fitted-level-3);\n",
       "}\n",
       "</style><div id=\"sk-container-id-1\" class=\"sk-top-container\"><div class=\"sk-text-repr-fallback\"><pre>SGDClassifier(random_state=42)</pre><b>In a Jupyter environment, please rerun this cell to show the HTML representation or trust the notebook. <br />On GitHub, the HTML representation is unable to render, please try loading this page with nbviewer.org.</b></div><div class=\"sk-container\" hidden><div class=\"sk-item\"><div class=\"sk-estimator fitted sk-toggleable\"><input class=\"sk-toggleable__control sk-hidden--visually\" id=\"sk-estimator-id-1\" type=\"checkbox\" checked><label for=\"sk-estimator-id-1\" class=\"sk-toggleable__label fitted sk-toggleable__label-arrow fitted\">&nbsp;&nbsp;SGDClassifier<a class=\"sk-estimator-doc-link fitted\" rel=\"noreferrer\" target=\"_blank\" href=\"https://scikit-learn.org/1.5/modules/generated/sklearn.linear_model.SGDClassifier.html\">?<span>Documentation for SGDClassifier</span></a><span class=\"sk-estimator-doc-link fitted\">i<span>Fitted</span></span></label><div class=\"sk-toggleable__content fitted\"><pre>SGDClassifier(random_state=42)</pre></div> </div></div></div></div>"
      ],
      "text/plain": [
       "SGDClassifier(random_state=42)"
      ]
     },
     "execution_count": 9,
     "metadata": {},
     "output_type": "execute_result"
    }
   ],
   "source": [
    "from sklearn.linear_model import SGDClassifier\n",
    "\n",
    "sgd_clf = SGDClassifier(random_state=42)\n",
    "sgd_clf.fit(X_train, y_train_5)"
   ]
  },
  {
   "cell_type": "markdown",
   "id": "3b09c6ad-5816-4801-a7e9-1785bae1f33a",
   "metadata": {},
   "source": [
    "이제 이 모델을 사용해 숫자 5의 이미지를 감지해보겠다."
   ]
  },
  {
   "cell_type": "code",
   "execution_count": 10,
   "id": "57028bfa-5968-407c-bfa7-47220b68c0c9",
   "metadata": {},
   "outputs": [
    {
     "data": {
      "text/plain": [
       "array([False])"
      ]
     },
     "execution_count": 10,
     "metadata": {},
     "output_type": "execute_result"
    }
   ],
   "source": [
    "some_digit = X[36000]\n",
    "sgd_clf.predict([some_digit])"
   ]
  },
  {
   "cell_type": "markdown",
   "id": "7fc05543-870e-4a51-ba04-b554fddf7a12",
   "metadata": {},
   "source": [
    "이제 모델의 성능을 확인해보자!"
   ]
  },
  {
   "cell_type": "markdown",
   "id": "87178f53-b0d7-4e99-8cec-93befdd4e4c7",
   "metadata": {},
   "source": [
    "## 성능 측정"
   ]
  },
  {
   "cell_type": "markdown",
   "id": "9b221b9d-309a-4ef8-8f59-c3b20e2d03cd",
   "metadata": {},
   "source": [
    "분류기 평가는 회귀 모델보다 훨씬 어렵다.\n",
    "\n",
    "### 교차 검증을 사용한 정확도 측정\n",
    "- 2장에서 했던 것처럼 교차 검증은 모델을 평가하는 좋은 방법이다.\n",
    "- StratiefiedKFold는 클래스별 비율이 유지되도록 폴드를 만들기 위해 계층적 샘플링을 수행한다.\n",
    "\n",
    "cross_val_score() 함수로 폴드가 3개인 k-겹 교차 검증을 사용해 SGDClassifier 모델을 평가해보겠다.\n",
    "k-겹 교차 검증은 훈련 세트를 k개의 폴드로 나누고, 각 폴드에 대해 예측을 만들고 평가하기 위해 나머지 폴드로 훈련시킨 모델을 사용한다는 것을 기억하고 있는지 모르겠다(2장 교차검증 파트에서 배웠다!)"
   ]
  },
  {
   "cell_type": "code",
   "execution_count": 11,
   "id": "f07e2a2d-ca20-4c03-9938-3ab7640db9be",
   "metadata": {},
   "outputs": [
    {
     "data": {
      "text/plain": [
       "array([0.95035, 0.96035, 0.9604 ])"
      ]
     },
     "execution_count": 11,
     "metadata": {},
     "output_type": "execute_result"
    }
   ],
   "source": [
    "from sklearn.model_selection import cross_val_score\n",
    "cross_val_score(sgd_clf, X_train, y_train_5, cv=3, scoring=\"accuracy\")"
   ]
  },
  {
   "cell_type": "markdown",
   "id": "2e588e0a-1f0c-460f-9d51-23b3e8d1ebb4",
   "metadata": {},
   "source": [
    "모든 교차 검증 폴드에 대해 정확도가 95% 이상이다!!\n",
    "이제 모든 이미지를 5아님 클래스로 분류하는 더미 분류기를 만들어 비교해보자."
   ]
  },
  {
   "cell_type": "code",
   "execution_count": 12,
   "id": "db3cd58f-642d-4488-b98a-85a45a7129db",
   "metadata": {},
   "outputs": [],
   "source": [
    "from sklearn.base import BaseEstimator\n",
    "\n",
    "class Never5Classifier(BaseEstimator):\n",
    "    def fit(self, X, y=None):\n",
    "        return self\n",
    "    def predict(self, X):\n",
    "        return np.zeros((len(X), 1), dtype=bool)"
   ]
  },
  {
   "cell_type": "code",
   "execution_count": 13,
   "id": "6a93a982-4bf8-4570-87c9-4bf94a392dec",
   "metadata": {},
   "outputs": [
    {
     "data": {
      "text/plain": [
       "array([0.91125, 0.90855, 0.90915])"
      ]
     },
     "execution_count": 13,
     "metadata": {},
     "output_type": "execute_result"
    }
   ],
   "source": [
    "never_5_clf = Never5Classifier()\n",
    "cross_val_score(never_5_clf, X_train, y_train_5, cv=3, scoring=\"accuracy\")"
   ]
  },
  {
   "cell_type": "markdown",
   "id": "71eed4fb-3eea-4cbb-87fa-1d9f93ad40dc",
   "metadata": {},
   "source": [
    "이번에도 정확도가 90% 이상으로 나왔다!\n",
    "사실 이미지의 10% 정도만 숫자 5이기 때문에 무조건 5아님으로 예측하면 정확히 맞출 확률이 90%이다.\n",
    "이처럼 지금의 예시는 정확도를 분류기의 성능 측정 지표로 선호하지 않는 이유를 보여준다.\n",
    "특히 불균형한 데이터셋을 다룰 때 더욱 그렇다."
   ]
  },
  {
   "cell_type": "markdown",
   "id": "35650f70-ce1c-486d-be35-5333db41b0cc",
   "metadata": {},
   "source": [
    "## 오차 행렬\n",
    "분류기의 성능을 평가하는 더 좋은 방법은 오차 행렬(confusion matrix)을 조사하는 것이다.\n",
    "기본적인 아이디어는 클래스 A의 샘플이 클래스 B로 분류된 횟수를 세는 것이다.\n",
    "예를 들어 분류기가 숫자 5의 이미지를 3으로 잘못 분류한 횟수를 알고 싶다면 오차 행렬의 5행 3열을 보면 된다.\n",
    "오차 행렬을 만들기 위해서는 실제 target과 비교할 수 있도록 먼저 예측값을 만들어야 한다.\n",
    "(테스트 세트로 예측을 만들수는 있지만 그건 여기서 사용할 것이 아니다! 출시 준비를 마치고 맨 마지막에 사용하는 것을 잊지 말자)\n",
    "대신 cross_val_predict() 함수를 사용할 수 있다."
   ]
  },
  {
   "cell_type": "code",
   "execution_count": 14,
   "id": "a5391bf8-252f-4da8-9d86-ccbbd45b1d98",
   "metadata": {},
   "outputs": [],
   "source": [
    "from sklearn.model_selection import cross_val_predict\n",
    "\n",
    "y_train_pred = cross_val_predict(sgd_clf, X_train, y_train_5, cv=3)"
   ]
  },
  {
   "cell_type": "markdown",
   "id": "33c9adfc-8a23-4e0b-ad42-bec156891eaa",
   "metadata": {},
   "source": [
    "cross_val_score() 함수처럼 cross_val_predict() 함수는 k-겹 교차 검증을 수행하지만 평가 점수를 반환하지 않고\n",
    "각 테스트 폴드에서 얻은 예측을 반환한다.\n",
    "즉 훈련 세트의 모든 샘플에 대해 깨끗한 예측을 얻게 된다. (깨끗 = 모델이 훈련하는 동안 보지 못했던 데이터에 대해 예측)\n",
    "이제 confusion_matrix() 함수를 이용해 오차 행렬을 만들 준비가 되었다.\n",
    "타깃 클래스인 y_train_5와 예측 클래스인 y_train_pred를 넣고 호출하면 된다."
   ]
  },
  {
   "cell_type": "code",
   "execution_count": 15,
   "id": "3338c749-d697-40f7-b6af-90ed0570d443",
   "metadata": {},
   "outputs": [
    {
     "data": {
      "text/plain": [
       "array([[53892,   687],\n",
       "       [ 1891,  3530]])"
      ]
     },
     "execution_count": 15,
     "metadata": {},
     "output_type": "execute_result"
    }
   ],
   "source": [
    "from sklearn.metrics import confusion_matrix\n",
    "confusion_matrix(y_train_5, y_train_pred)"
   ]
  },
  {
   "cell_type": "markdown",
   "id": "c8a0c605-6490-4af6-84be-0733abad76d0",
   "metadata": {},
   "source": [
    "오차 행렬의 행은 실제 클래스를 나타내고 열은 예측한 클래스를 나타낸다.\n",
    "여기서 첫번째 행은 5아님 이미지에 대한 것으로 53892개를 5아님으로 정확하게 분류했고 (true negative)\n",
    "나머지 687개는 5라고 잘못 분류했다. (false positive)\n",
    "2번째 행은 5로 분류한 이미지에 대한 것으로 1891개를 5아님으로 잘못 분류했고 (false negative)\n",
    "3530개를 5라고 제대로 분류했다. (true positive)\n",
    "\n",
    "만약 완벽한 분류기라면 진짜 양성과 진짜 음성만 갖고 있을테니 오차 행렬의 주대각선만 0이 아닌 값이 된다!"
   ]
  },
  {
   "cell_type": "markdown",
   "id": "ccd1160d-13b3-45a9-979f-c388c2773304",
   "metadata": {},
   "source": [
    "오차 행렬이 많은 정보를 제공해주지만 가끔 더 요약된 지표가 필요할 때도 있다.\n",
    "하나의 예로 양성 예측의 정확도가 있다.\n",
    "이런 양성 예측의 정확도를 분류기의 정밀도(precision)라고 한다.\n",
    "\n",
    "<b>precision = True_Positive / Positive </b>"
   ]
  },
  {
   "cell_type": "markdown",
   "id": "6cf30f22-52a6-41c3-a57d-882cc3042654",
   "metadata": {},
   "source": [
    "확실한 Positive 샘플 하나만 예측하면 간단히 완벽한 정밀도를 얻을 수 있지만 다른 모든 양성 샘플을 무시하기 때문에 유용하지 않아보인다. \n",
    "\n",
    "이 정밀도는 재현율(recall)이라는 또 다른 지표와 같이 사용하는 것이 일반적이다.\n",
    "재현율은 분류기가 정확하게 감지한 양성 샘플의 비율로 \n",
    "\n",
    "<b> recall = true_positive / (true_positive + false_negative)</b>\n",
    "\n",
    "민감도(sensitivity) 또는 진짜 양성 비율(true positive rate)라고도 한다.\n",
    "\n",
    "## 정밀도와 재현율\n",
    "사이킷런은 정밀도와 재현율을 포함하여 분류기의 지표를 계산하는 여러 함수를 제공한다."
   ]
  },
  {
   "cell_type": "code",
   "execution_count": 16,
   "id": "aaed91aa-765b-4ade-8c93-24410fd21600",
   "metadata": {},
   "outputs": [
    {
     "data": {
      "text/plain": [
       "np.float64(0.8370879772350012)"
      ]
     },
     "execution_count": 16,
     "metadata": {},
     "output_type": "execute_result"
    }
   ],
   "source": [
    "from sklearn.metrics import precision_score, recall_score\n",
    "precision_score(y_train_5, y_train_pred) # 정밀도 : y_train_5가 5인지 아닌지의 라벨임을 잊지 말자!"
   ]
  },
  {
   "cell_type": "code",
   "execution_count": 17,
   "id": "b200da11-6cad-4f4c-9c1f-47f59ae68057",
   "metadata": {},
   "outputs": [
    {
     "data": {
      "text/plain": [
       "np.float64(0.6511713705958311)"
      ]
     },
     "execution_count": 17,
     "metadata": {},
     "output_type": "execute_result"
    }
   ],
   "source": [
    "recall_score(y_train_5, y_train_pred) #재현율 4096 / (4096 + 1325)"
   ]
  },
  {
   "cell_type": "markdown",
   "id": "83b58451-e60e-44d1-b308-d692a1d0175b",
   "metadata": {},
   "source": [
    "정확도에서 봤을 때만큼 좋게 나오지는 않았다.\n",
    "약 83.7%만 정확하다. 더군다나 전체 숫자 5에서 65.1%만 감지했다.\n",
    "정밀도와 재현율을 F1 점수 (F1 score)라고 하는 하나의 숫자로 만들면 편리할 때가 많다.\n",
    "특히 두 분류기를 비교할 때 그렇다.\n",
    "F1 점수는 정밀도와 재현율의 조화 평균(harmonic mean)이다.\n",
    "\n",
    "<b> 2x(정밀도 x 재현율) / (정밀도 + 재현율)</b>\n",
    "\n",
    "역시나 따로 함수가 존재해서\n",
    "f1_score() 함수를 호출하면 된다."
   ]
  },
  {
   "cell_type": "code",
   "execution_count": 18,
   "id": "a3d59d15-31a2-4f3f-a004-3d3b658d36f9",
   "metadata": {},
   "outputs": [
    {
     "data": {
      "text/plain": [
       "np.float64(0.7325171197343847)"
      ]
     },
     "execution_count": 18,
     "metadata": {},
     "output_type": "execute_result"
    }
   ],
   "source": [
    "from sklearn.metrics import f1_score\n",
    "f1_score(y_train_5, y_train_pred)"
   ]
  },
  {
   "cell_type": "markdown",
   "id": "0f95ff92-3b81-4377-a50f-fa4d264e0b34",
   "metadata": {},
   "source": [
    "정밀도와 재현율이 비슷한 분류기에서는 F1 점수가 높다. 하지만 이게 항상 좋은 것 만은 아니다!\n",
    "상황에 따라 정밀도가 중요할 수도 있고 재현율이 중요할 수도 있다.\n",
    "예를 들어 어린아이에게 안전한 동영상을 걸러내는 분류기를 훈련시킨다고 가정하자.\n",
    "재현율은 높으나 정말 나쁜 동영상이 몇 개 노출되는 것보다 좋은 동영상이 많이 제외되더라도 (낮은 재현율) \n",
    "안전한 것들만 노출시키는(높은 정밀도) 분류기를 선호할 것이다.\n",
    "\n",
    "다른 예시로 감시 카메라를 통해 좀도둑을 잡아내는 분류기가 있다고 해보자.\n",
    "분류기의 재현율이 99%라면 정확도가 30%만 되더라도 괜찮을지도 모른다.\n",
    "\n",
    "아쉽지만 이 둘을 모두 얻을 수는 없다. \n",
    "정밀도를 올리면 재현율이 줄고, 재현율을 높히면 정밀도가 줄기 때문이다.\n",
    "즉 이 둘은 트레이드 오프 관계에 있다.\n",
    "\n",
    "## 정밀도/재현율 트레이드오프\n",
    "SGDClassifier가 분류를 어떻게 결정하는지 살펴보며 트레이드 오프 관계를 알아보자.\n",
    "이 분류기는 decision function(결정 함수)를 사용하여 각 샘플의 점수를 계산한다.\n",
    "이 점수가 임계값보다 크면 샘플을 양성 클래스에 할당하고 그렇지 않으면 negative로 할당한다.\n",
    "\n",
    "만약 결정 임계값을 중심으로 양 쪽에 5를 나타낸 이미지들이 나열되어있다고 하자.\n",
    "그 중 오른쪽 즉 양성이라고 판단한 쪽에는 진짜 5 4개 (true positive) 가까 5 1개가 있다(false positive)\n",
    "실제로는 [8 7 3 9 5 2 5 | 5 6 5 5 5] 이렇게 배치되어있다.\n",
    "여기서 만약 결정 임계값을 오른쪽으로 두칸 정도 옮기면 \n",
    "false positive 였던 6이 진짜 음성으로 판단되어(5아님) 정밀도가 높아진다.\n",
    "대신 기존에 진짜 양성이었던 5하나가 음성으로 판단되므로 재현율이 줄어든다.\n",
    "\n",
    "사이킷런에서 임곗값을 직접 지정할 수는 없지만 예측에 사용한 점수는 확인할 수 있다.\n",
    "여기서 우리가 수동으로 나만의 임계값을 기준으로 예측을 만들어낼 수는 있다."
   ]
  },
  {
   "cell_type": "code",
   "execution_count": 19,
   "id": "c36a772b-b17b-4ea6-a9cc-d299637fac40",
   "metadata": {},
   "outputs": [
    {
     "data": {
      "text/plain": [
       "array([-3491.23647576])"
      ]
     },
     "execution_count": 19,
     "metadata": {},
     "output_type": "execute_result"
    }
   ],
   "source": [
    "y_scores = sgd_clf.decision_function([some_digit]) # X[0] 진짜 5임\n",
    "y_scores"
   ]
  },
  {
   "cell_type": "code",
   "execution_count": 20,
   "id": "81e608e4-6518-4f88-813a-7f843ae730b5",
   "metadata": {},
   "outputs": [
    {
     "data": {
      "text/plain": [
       "array([False])"
      ]
     },
     "execution_count": 20,
     "metadata": {},
     "output_type": "execute_result"
    }
   ],
   "source": [
    "threshold = 0\n",
    "y_some_digit_pred = (y_scores > threshold)\n",
    "y_some_digit_pred"
   ]
  },
  {
   "cell_type": "markdown",
   "id": "c7168d06-9d9b-4e37-9be0-a9aa7bc76d6a",
   "metadata": {},
   "source": [
    "우리가 설정한 SGDClassifier의 임계값이 0이므로 위 코드는 predict() 메서드와 같은 결과인 True를 반환한다.\n",
    "임계값을 높여보자."
   ]
  },
  {
   "cell_type": "code",
   "execution_count": 21,
   "id": "fb23b670-6632-4861-bb92-5c076bd1ab14",
   "metadata": {},
   "outputs": [
    {
     "data": {
      "text/plain": [
       "array([False])"
      ]
     },
     "execution_count": 21,
     "metadata": {},
     "output_type": "execute_result"
    }
   ],
   "source": [
    "threshold = 8000\n",
    "y_some_digit_pred = (y_scores > threshold)\n",
    "y_some_digit_pred"
   ]
  },
  {
   "cell_type": "markdown",
   "id": "cd5e7445-8bb1-496d-b042-baa9461777a9",
   "metadata": {},
   "source": [
    "이미지가 실제로 숫자 5이고 임계값이 0일 때는 분류기가 이를 감지했지만, 임계값을 8000으로 높이면 이를 놓치게 된다.\n",
    "그렇다면 적절한 임계값을 어떻게 정할 수 있을까?\n",
    "이를 위해선 먼저 cross_val_predict() 함수를 사용해 훈련 세트에 있는 모든 샘플의 점수를 구해야 한다.\n",
    "당연히 위에서 사용했던 방식과 똑같지는 않고 예측 결과가 아닌 <b>결정 점수</b>를 반환받도록 지정해야 한다."
   ]
  },
  {
   "cell_type": "code",
   "execution_count": 22,
   "id": "f811ef6a-b0cb-4151-9ba5-29348b3d6af8",
   "metadata": {},
   "outputs": [],
   "source": [
    "y_scores = cross_val_predict(sgd_clf, X_train, y_train_5, cv=3,\n",
    "                            method=\"decision_function\")"
   ]
  },
  {
   "cell_type": "markdown",
   "id": "37566b63-68b6-4221-a390-ddee908fcd20",
   "metadata": {},
   "source": [
    "이 결정 점수로 precision_recall_curve() 함수를 사용해서 가능한 모든 임계값에 대해 정밀도와 재현율을 계산할 수 있다."
   ]
  },
  {
   "cell_type": "code",
   "execution_count": 23,
   "id": "7ea6f8d6-071a-4137-87ae-2b464b84016c",
   "metadata": {},
   "outputs": [],
   "source": [
    "from sklearn.metrics import precision_recall_curve\n",
    "precisions, recalls, thresholds = precision_recall_curve(y_train_5, y_scores)"
   ]
  },
  {
   "cell_type": "markdown",
   "id": "f13ed2af-5d39-4d58-9ca1-22c091d30554",
   "metadata": {},
   "source": [
    "이제 matplotlib를 통해 임계값의 함수로 정밀도와 재현율을 그릴 수 있다."
   ]
  },
  {
   "cell_type": "code",
   "execution_count": 28,
   "id": "5dbe64c8-5c4b-41f8-bb1c-330ef18da188",
   "metadata": {},
   "outputs": [
    {
     "data": {
      "image/png": "[encoded data removed]",
      "text/plain": [
       "<Figure size 640x480 with 1 Axes>"
      ]
     },
     "metadata": {},
     "output_type": "display_data"
    }
   ],
   "source": [
    "def plot_precision_recall_vs_threshold(precisions, recalls, thresholds):\n",
    "    plt.plot(thresholds, precisions[:-1], \"b--\", label=\"정밀도\", linewidth=1)\n",
    "    plt.plot(thresholds, recalls[:-1], \"g-\", label=\"재현율\", linewidth=1)\n",
    "\n",
    "plot_precision_recall_vs_threshold(precisions, recalls, thresholds)\n",
    "plt.show()\n",
    "\n",
    "#임계값을 올리더라도 가끔 정밀도가 낮아지는 경우가 있어(위에서 본 예시처럼) 정밀도가 울퉁불퉁하게 나온다.\n",
    "#반면 재현율은 임계값이 올라감에 따라 줄어들 수밖에 없어 부드러운 곡선이 된다."
   ]
  },
  {
   "cell_type": "markdown",
   "id": "6653498e-ec28-45a1-ad35-0c9ff5e2c55c",
   "metadata": {},
   "source": [
    "좋은 정밀도/재현율 트레이드 오프를 선택하는 다른 방법은 재현율에 대한 정밀도 곡선을 그리는 것이다."
   ]
  },
  {
   "cell_type": "code",
   "execution_count": 30,
   "id": "7a7fb619-5a71-4196-84cc-11a14d6d209e",
   "metadata": {},
   "outputs": [
    {
     "data": {
      "image/png": "[encoded data removed]",
      "text/plain": [
       "<Figure size 640x480 with 1 Axes>"
      ]
     },
     "metadata": {},
     "output_type": "display_data"
    }
   ],
   "source": [
    "def plot_precision_vs_recall(precisions, recalls):\n",
    "    plt.plot(recalls, precisions, \"b-\", linewidth=2)\n",
    "    plt.xlabel(\"재현율\", fontsize=16)\n",
    "    plt.ylabel(\"정밀도\", fontsize=16)\n",
    "    plt.axis([0, 1, 0, 1])\n",
    "\n",
    "plot_precision_vs_recall(precisions, recalls)\n",
    "plt.show()"
   ]
  },
  {
   "cell_type": "markdown",
   "id": "0ebc04dc-93b6-4cf6-b55f-45b26d230a53",
   "metadata": {},
   "source": [
    "재현율 80% 이전부터 정밀도가 급격하게 줄어들기 시작한다.\n",
    "이 하강점 직전을 정밀도/재현율 트레이드 오프로 선택하는 것이 좋다.\n",
    "만약 여기서 정밀도 90%를 달성하는 것이 목표라고 가정하자. 그럼 임계값은 약 6000정도라는 것을 알 수 있다.\n",
    "np.argmax (최댓값의 첫 번째 인덱스를 반환)를 통해 최소 90% 정밀도가 되는 가장 낮은 임계값을 찾을 수 있다."
   ]
  },
  {
   "cell_type": "code",
   "execution_count": 33,
   "id": "b9c4ef52-0a78-4cc7-9c57-6cb7d2db39da",
   "metadata": {},
   "outputs": [],
   "source": [
    "threshold_90_precision = thresholds[np.argmax(precisions >= 0.90)] #즉 가장 낮은 임계값을 찾는다!"
   ]
  },
  {
   "cell_type": "code",
   "execution_count": 34,
   "id": "d2177b3e-ecba-4113-8aa0-76c687d8bd18",
   "metadata": {},
   "outputs": [
    {
     "data": {
      "text/plain": [
       "np.float64(0.9000345901072293)"
      ]
     },
     "execution_count": 34,
     "metadata": {},
     "output_type": "execute_result"
    }
   ],
   "source": [
    "y_train_pred_90 = (y_scores >= threshold_90_precision) # 훈련 세트에 대한 예측을 만든다.\n",
    "\n",
    "precision_score(y_train_5, y_train_pred_90) # 예측 정밀도 확인"
   ]
  },
  {
   "cell_type": "code",
   "execution_count": 35,
   "id": "c8f09f97-dfd7-4db7-b4c7-38a916794a2c",
   "metadata": {},
   "outputs": [
    {
     "data": {
      "text/plain": [
       "np.float64(0.4799852425751706)"
      ]
     },
     "execution_count": 35,
     "metadata": {},
     "output_type": "execute_result"
    }
   ],
   "source": [
    "recall_score(y_train_5, y_train_pred_90) # 예측 재현율 확인"
   ]
  },
  {
   "cell_type": "markdown",
   "id": "29a2edab-4af1-4a45-af1a-700bf15c33fc",
   "metadata": {},
   "source": [
    "위와 같이 정밀도 90%를 달성한 분류기를 만들었다. 하지만 재현율이 너무 낮다면 높은 정밀도의 분류기는 전혀 유용하지 않게 된다.\n",
    "\n",
    "## ROC 곡선 : 이진 분류에 사용\n",
    "ROC curve는 이진 분류에서 널리 사용하는 도구이다.\n",
    "정밀도/재현율 곡선과 매우 비슷하지만, ROC 곡선은 정밀도에 대한 재현율 곡선이 아니고\n",
    "False Positive Rate에 대한 True Positive Rate(재현율)의 곡선이다.\n",
    "* FPR = 1 - TNR이다.\n",
    "양성으로 잘못 분류된 음성 샘플의 비율이 FPR이다.\n",
    "<b> FPR = FP / (FP+TN) </b>\n",
    "TNR은 특이도(specificity)라고 불리기도 하며 음성으로 정확하게 분류한 음성 샘플의 비율이다.\n",
    "이를 정리하면 ROC curve는 민감도(재현율)에 대한 1-특이도 그래프이다.\n",
    "\n",
    "ROC curve를 그리려면 먼저 roc_curve() 함수를 사용해 여러 임계값에서 TPR과 FPR을 계산해야 한다."
   ]
  },
  {
   "cell_type": "code",
   "execution_count": 36,
   "id": "7bf9badb-0489-4824-a7d0-e46173e843e2",
   "metadata": {},
   "outputs": [],
   "source": [
    "from sklearn.metrics import roc_curve\n",
    "\n",
    "fpr, tpr, threshold = roc_curve(y_train_5, y_scores)"
   ]
  },
  {
   "cell_type": "code",
   "execution_count": 39,
   "id": "cde121eb-9518-4cf1-8064-2c1df1c7ce90",
   "metadata": {},
   "outputs": [
    {
     "data": {
      "image/png": "[encoded data removed]",
      "text/plain": [
       "<Figure size 640x480 with 1 Axes>"
      ]
     },
     "metadata": {},
     "output_type": "display_data"
    }
   ],
   "source": [
    "#matplotlib를 통해 TRP에 대한 FPR의 곡선 나타내기\n",
    "def plot_roc_curve(fpr, tpr, label=None):\n",
    "    plt.plot(fpr, tpr, linewidth=2, label=label)\n",
    "    plt.plot([0, 1], [0, 1], 'k--') # 대각 점선 추가\n",
    "\n",
    "\n",
    "plot_roc_curve(fpr, tpr)\n",
    "plt.show()"
   ]
  },
  {
   "cell_type": "markdown",
   "id": "57410473-0a7a-45f9-b65f-f450b66ac548",
   "metadata": {},
   "source": [
    "여기에도 엄연히 트레이드 오프가 있다. <br>\n",
    "TPR(재현율)이 높을수록 분류기가 만드는 FPR이 늘어난다. \n",
    "점선은 완전한 랜덤 분류기의 ROC 곡선을 뜻한다 : 이 이상 내려가지 x \n",
    "AUC(곡선 아래의 면적)을 측정하면 분류기들을 비교할 수 있다. \n",
    "완벽한 분류기는 ROC의 AUC가 1이다.\n",
    "사이킷런은 ROC의 AUC를 계산하는 함수를 제공한다."
   ]
  },
  {
   "cell_type": "code",
   "execution_count": 40,
   "id": "9d6ede65-215d-49e6-a677-0b44c5b224e2",
   "metadata": {},
   "outputs": [],
   "source": [
    "from sklearn.metrics import roc_auc_score"
   ]
  },
  {
   "cell_type": "code",
   "execution_count": 41,
   "id": "55afc828-1dfe-4bde-9a29-6c391c936941",
   "metadata": {},
   "outputs": [
    {
     "data": {
      "text/plain": [
       "np.float64(0.9604938554008616)"
      ]
     },
     "execution_count": 41,
     "metadata": {},
     "output_type": "execute_result"
    }
   ],
   "source": [
    "roc_auc_score(y_train_5, y_scores)"
   ]
  },
  {
   "cell_type": "markdown",
   "id": "d8a8f9ce-b6e8-49dc-a665-ad2f0a2b0d1d",
   "metadata": {},
   "source": [
    "그렇다면 ROC 곡선과 정밀도/재현율 곡선 중 어떤 것을 사용해야 할지 궁금할 수 있다.\n",
    "Positive 클래스가 드물거나 False Negative 보다 False Positive이 더 중요할 때 PR 곡선을 사용하고\n",
    "반대로 False Positive보다 False Negative가 더 중요하면 ROC 곡선을 사용한다.\n",
    "\n",
    "RandomForestClassifier를 훈련시켜 SGDClassifier의 ROC 곡선과 AUC 점수를 비교해보자.\n",
    "먼저 훈련 세트의 샘플에 대한 점수를 얻어야 한다.\n",
    "하지만 앞에서와 달리 RandomForestClassifier에는 decision_function() 메서드가 없다.\n",
    "대신 predict_proba() 메서드가 존재한다.\n",
    "사이킷런 분류기는 일반적으로 이 두 메서드(decision_function()과 predict_proba()) 중 하나 또는 둘 모두를 갖고 있다.\n",
    "predict_proba() 메서드는 샘플이 행, 클래스가 열이고 샘플이 주어진 클래스에 속할 확률을 담은 배열을 반환한다."
   ]
  },
  {
   "cell_type": "code",
   "execution_count": 54,
   "id": "c4873bb3-9aa8-4dc4-aa95-3645125b658a",
   "metadata": {},
   "outputs": [],
   "source": [
    "from sklearn.ensemble import RandomForestClassifier\n",
    "\n",
    "forest_clf = RandomForestClassifier(random_state=42)\n",
    "y_probas_forest = cross_val_predict(forest_clf, X_train, y_train_5, cv=3,\n",
    "                                   method=\"predict_proba\")"
   ]
  },
  {
   "cell_type": "markdown",
   "id": "61a69874-ae4e-476a-80cb-510e1d2077f4",
   "metadata": {},
   "source": [
    "roc_curve()는 레이블과 점수를 기대한다.\n",
    "하지만 점수 대신에 클래스 확률을 전달할 수도 있다!"
   ]
  },
  {
   "cell_type": "code",
   "execution_count": 55,
   "id": "8696a7cf-67f0-422b-b2f7-51eab060e0b2",
   "metadata": {},
   "outputs": [],
   "source": [
    "y_scores_forest = y_probas_forest[:, 1] # 양성 클래스에 대한 확률을 점수로 사용한다.\n",
    "fpr_forest, tpr_forest, thresholds_forest = roc_curve(y_train_5, y_scores_forest)"
   ]
  },
  {
   "cell_type": "markdown",
   "id": "e16d01bf-870e-4023-95f5-3c4ee54fe7ac",
   "metadata": {},
   "source": [
    "이제 ROC 곡선을 그릴 준비가 되었다. 비교를 위해 첫번째 ROC 곡선도 함께 나타냈다."
   ]
  },
  {
   "cell_type": "code",
   "execution_count": 58,
   "id": "51587f00-bb2d-4999-82ef-affbb765bf92",
   "metadata": {},
   "outputs": [
    {
     "name": "stderr",
     "output_type": "stream",
     "text": [
      "findfont: Font family 'NanumBarunGothic' not found.\n",
      "findfont: Font family 'NanumBarunGothic' not found.\n",
      "findfont: Font family 'NanumBarunGothic' not found.\n",
      "findfont: Font family 'NanumBarunGothic' not found.\n",
      "findfont: Font family 'NanumBarunGothic' not found.\n",
      "findfont: Font family 'NanumBarunGothic' not found.\n",
      "findfont: Font family 'NanumBarunGothic' not found.\n",
      "findfont: Font family 'NanumBarunGothic' not found.\n",
      "findfont: Font family 'NanumBarunGothic' not found.\n",
      "findfont: Font family 'NanumBarunGothic' not found.\n",
      "findfont: Font family 'NanumBarunGothic' not found.\n",
      "findfont: Font family 'NanumBarunGothic' not found.\n",
      "findfont: Font family 'NanumBarunGothic' not found.\n",
      "findfont: Font family 'NanumBarunGothic' not found.\n",
      "findfont: Font family 'NanumBarunGothic' not found.\n",
      "findfont: Font family 'NanumBarunGothic' not found.\n",
      "findfont: Font family 'NanumBarunGothic' not found.\n",
      "findfont: Font family 'NanumBarunGothic' not found.\n",
      "findfont: Font family 'NanumBarunGothic' not found.\n",
      "findfont: Font family 'NanumBarunGothic' not found.\n",
      "findfont: Font family 'NanumBarunGothic' not found.\n",
      "findfont: Font family 'NanumBarunGothic' not found.\n",
      "findfont: Font family 'NanumBarunGothic' not found.\n",
      "findfont: Font family 'NanumBarunGothic' not found.\n",
      "findfont: Font family 'NanumBarunGothic' not found.\n",
      "findfont: Font family 'NanumBarunGothic' not found.\n"
     ]
    },
    {
     "data": {
      "image/png": "[encoded data removed]",
      "text/plain": [
       "<Figure size 800x600 with 1 Axes>"
      ]
     },
     "metadata": {},
     "output_type": "display_data"
    }
   ],
   "source": [
    "plt.figure(figsize=(8, 6))\n",
    "plt.plot(fpr, tpr, \"b:\", linewidth=2, label=\"SGD\")\n",
    "plot_roc_curve(fpr_forest, tpr_forest, \"랜덤 포레스트\")\n",
    "plt.show()"
   ]
  },
  {
   "cell_type": "markdown",
   "id": "0fd892cd-7729-4d57-9fb1-067e6921264d",
   "metadata": {},
   "source": [
    "RandomForestClassifier의 ROC 곡선이 왼쪽 위 모서리에 더 가까워 SGDClassifier보다 더 좋아 보인다.\n",
    "\n",
    "이제 다음으로는 숫자 5 이상을 감지해보겠다.\n",
    "\n",
    "# 다중 분류\n",
    "이진 분류가 두 개의 클래스를 구별하는 반면 다중 분류기는 둘 이상의 클래스를 구별할 수 있다.<br>\n",
    "SGD classifier, RandomForest Classifier, naive Bayes Classifier와 같은 일부 알고리즘은 여러 개의 클래스를\n",
    "직접 처리할 수 있는 반면, 로지스틱 회귀나 support vector machine같은 다른 알고리즘은 이진 분류만 가능하다.<br>\n",
    "하지만 이진 분류기를 여러 개 사용해 다중 클래스를 분류하는 기법도 많이 존재한다.<br>\n",
    "단순하게 특정 숫자 하나만 구분하는 숫자별 이진 분류기 10개를 훈련시켜 클래스가 10개인 숫자 이미지 분류 시스템을 만들 수 있다.<br>\n",
    "이미지를 분류할 때 각 분류기의 결정 점수 중에서 가장 높은 것을 클래스로 선택하면 된다.<br>\n",
    "이를 OvR(one-versus-the-rest 전략)이라고 한다.<br>\n",
    "\n",
    "또 다른 전략은 각 숫자의 조합마다 이진 분류기를 훈련시키는 것이다. 이를 OvO(one-versus-one)전략이라고 한다.<br>\n",
    "클래스가 N개라면 분류기는 Nx(N-1)/2개가 필요하다.<br>\n",
    "MNIST 문제에서는 45개의 분류기를 훈련시켜야 한다.\n",
    "<br>\n",
    "\n",
    "사이킷런에서 OvO나 OvR을 사용하도록 강제하려면 OneVsOneClassifier나 OneVsRestClassifier를 사용한다.\n",
    "간단하게 이진 분류기 인스턴스를 만들어 객체를 생성할 때 전달하면 된다.\n",
    "예를 들어 다음 코드는 SVC 기반으로 OvR 전략을 사용하는 다중 분류기를 만든다."
   ]
  },
  {
   "cell_type": "code",
   "execution_count": null,
   "id": "079978b7-9997-46f9-9481-8e39f703d892",
   "metadata": {},
   "outputs": [],
   "source": [
    "from sklearn.multiclass import OneVsRestClassifier\n",
    "from sklearn.svm import SVC \n",
    "ovr_clf = OneVsRestClassifier(SVC())\n",
    "ovr_clf.fit(X_train, y_train)\n",
    "ovr_clf.predict([some_digit])"
   ]
  },
  {
   "cell_type": "markdown",
   "id": "75388768-f66d-48b8-9cf6-a33336f8cb4f",
   "metadata": {},
   "source": [
    "SGDClassifier를 훈련시키는 것도 간단하다."
   ]
  },
  {
   "cell_type": "code",
   "execution_count": 61,
   "id": "950c5091-4604-41ec-95f4-c9a07e6dabb5",
   "metadata": {},
   "outputs": [
    {
     "data": {
      "text/plain": [
       "array([3], dtype=uint8)"
      ]
     },
     "execution_count": 61,
     "metadata": {},
     "output_type": "execute_result"
    }
   ],
   "source": [
    "sgd_clf.fit(X_train, y_train)\n",
    "sgd_clf.predict([some_digit])"
   ]
  },
  {
   "cell_type": "markdown",
   "id": "3498392b-b13b-4fc9-b749-0b063245b048",
   "metadata": {},
   "source": [
    "이 경우 SGD 분류기는 직접 샘플을 다중 클래스로 분류할 수 있기 때문에 별도로 사이킷런의 OvR이나 OvO를 적용할 필요가 없다.<br>\n",
    "decision_function() 메서드는 클래스마다 하나의 값을 반환한다.<br>\n",
    "SGD 분류기가 클래스마다 부여한 점수를 확인해보겠다."
   ]
  },
  {
   "cell_type": "code",
   "execution_count": 62,
   "id": "955e8612-a3ce-4d61-9fbd-4b505d0a15a2",
   "metadata": {},
   "outputs": [
    {
     "data": {
      "text/plain": [
       "array([[-42309.24702339, -24514.78707295, -21802.99686514,\n",
       "          -253.56670849,  -6692.29918582,  -5022.40064344,\n",
       "        -34623.10033652,  -8392.84727568,  -3181.89959952,\n",
       "         -2356.71582334]])"
      ]
     },
     "execution_count": 62,
     "metadata": {},
     "output_type": "execute_result"
    }
   ],
   "source": [
    "sgd_clf.decision_function([some_digit])"
   ]
  },
  {
   "cell_type": "markdown",
   "id": "6fcc419c-7db3-4630-a63f-a62bc943a2ef",
   "metadata": {},
   "source": [
    "이녀석...자신감이 엄청나다!<br>\n",
    "해당 결과에서 분류기가 예측 결과에 강한 확신을 보이고 있음을 알 수 있다. \n",
    "대부분의 점수가 큰 음수이기 때문이다.\n",
    "이제 물론 앞에서 했던 바와 같이 분류기를 평가해보고 싶을 것이다.\n",
    "분류기 평가에는 일반적으로 교차 검증을 사용한다. (앞에서 맨 처음 했던 것과 같이...)\n",
    "cross_val_score() 함수를 사용해 SGDClassifier의 정확도를 평가해보겠다."
   ]
  },
  {
   "cell_type": "code",
   "execution_count": 63,
   "id": "69947905-53ff-428c-b88b-f1890dac296d",
   "metadata": {},
   "outputs": [
    {
     "data": {
      "text/plain": [
       "array([0.87365, 0.85835, 0.8689 ])"
      ]
     },
     "execution_count": 63,
     "metadata": {},
     "output_type": "execute_result"
    }
   ],
   "source": [
    "cross_val_score(sgd_clf, X_train, y_train, cv=3, scoring=\"accuracy\")"
   ]
  },
  {
   "cell_type": "code",
   "execution_count": 64,
   "id": "68037275-8fe1-448f-bbef-5564fbbf63c1",
   "metadata": {},
   "outputs": [
    {
     "data": {
      "text/plain": [
       "array([0.8983, 0.891 , 0.9018])"
      ]
     },
     "execution_count": 64,
     "metadata": {},
     "output_type": "execute_result"
    }
   ],
   "source": [
    "# 간단하게 입력의 스케일을 조정해서 정확도 높이기\n",
    "from sklearn.preprocessing import StandardScaler\n",
    "scaler = StandardScaler()\n",
    "X_train_scaled = scaler.fit_transform(X_train.astype(np.float64))\n",
    "cross_val_score(sgd_clf, X_train_scaled, y_train, cv=3, scoring=\"accuracy\")"
   ]
  },
  {
   "cell_type": "markdown",
   "id": "7afcad23-4dac-43a3-bf62-19be418e1eac",
   "metadata": {},
   "source": [
    "# 에러 분석\n",
    "실제 프로젝트라면 데이터 준비 단계에서 가능한 선택 사항을 탐색하고, 여러 모델을 시도하고, 가장 좋은 모델 몇 개를 골라<br>\n",
    "GridSearchCV를 사용해 하이퍼파라미터를 세밀하게 튜닝하고 앞 장에서 한 것처럼 가능한 한 자동화한다.<br>\n",
    "이 절에서는 이미 가능성이 높은 한 모델을 찾았다고 가정하고, 이 모델의 성능을 향상시킬 방법을 찾아보겠다.<br>\n",
    "\n",
    "<br>\n",
    "한 가지 방법은 만들어진 에러의 종류를 분석하는 것이다.<br>\n",
    "먼저 오차 행렬을 살펴볼 수 있다. 아까 위에서 배웠듯이 cross_val_predict() 함수를 사용해 예측을 만들고 <br>\n",
    "이전처럼 confusion_matrix() 함수를 호출한다."
   ]
  },
  {
   "cell_type": "code",
   "execution_count": 65,
   "id": "a5679320-493a-4880-882f-cac8f25a500f",
   "metadata": {},
   "outputs": [
    {
     "data": {
      "text/plain": [
       "array([[5577,    0,   22,    5,    8,   43,   36,    6,  225,    1],\n",
       "       [   0, 6400,   37,   24,    4,   44,    4,    7,  212,   10],\n",
       "       [  27,   27, 5220,   92,   73,   27,   67,   36,  378,   11],\n",
       "       [  22,   17,  117, 5227,    2,  203,   27,   40,  403,   73],\n",
       "       [  12,   14,   41,    9, 5182,   12,   34,   27,  347,  164],\n",
       "       [  27,   15,   30,  168,   53, 4444,   75,   14,  535,   60],\n",
       "       [  30,   15,   42,    3,   44,   97, 5552,    3,  131,    1],\n",
       "       [  21,   10,   51,   30,   49,   12,    3, 5684,  195,  210],\n",
       "       [  17,   63,   48,   86,    3,  126,   25,   10, 5429,   44],\n",
       "       [  25,   18,   30,   64,  118,   36,    1,  179,  371, 5107]])"
      ]
     },
     "execution_count": 65,
     "metadata": {},
     "output_type": "execute_result"
    }
   ],
   "source": [
    "y_train_pred = cross_val_predict(sgd_clf, X_train_scaled, y_train, cv=3)\n",
    "conf_mx = confusion_matrix(y_train, y_train_pred)\n",
    "conf_mx"
   ]
  },
  {
   "cell_type": "markdown",
   "id": "32c28711-d2f6-40cb-8763-0558b27aedb7",
   "metadata": {},
   "source": [
    "많은 숫자가 출력된다. 오차 행렬을 matplotlib의 matshow() 함수를 사용해 이미지로 표현하면 보기에 편할 때까 많다."
   ]
  },
  {
   "cell_type": "code",
   "execution_count": 66,
   "id": "9b7e3fc4-6b66-4b26-852a-8dce53806323",
   "metadata": {},
   "outputs": [
    {
     "name": "stderr",
     "output_type": "stream",
     "text": [
      "findfont: Font family 'NanumBarunGothic' not found.\n",
      "findfont: Font family 'NanumBarunGothic' not found.\n",
      "findfont: Font family 'NanumBarunGothic' not found.\n",
      "findfont: Font family 'NanumBarunGothic' not found.\n",
      "findfont: Font family 'NanumBarunGothic' not found.\n",
      "findfont: Font family 'NanumBarunGothic' not found.\n",
      "findfont: Font family 'NanumBarunGothic' not found.\n",
      "findfont: Font family 'NanumBarunGothic' not found.\n",
      "findfont: Font family 'NanumBarunGothic' not found.\n",
      "findfont: Font family 'NanumBarunGothic' not found.\n",
      "findfont: Font family 'NanumBarunGothic' not found.\n",
      "findfont: Font family 'NanumBarunGothic' not found.\n",
      "findfont: Font family 'NanumBarunGothic' not found.\n",
      "findfont: Font family 'NanumBarunGothic' not found.\n",
      "findfont: Font family 'NanumBarunGothic' not found.\n",
      "findfont: Font family 'NanumBarunGothic' not found.\n",
      "findfont: Font family 'NanumBarunGothic' not found.\n",
      "findfont: Font family 'NanumBarunGothic' not found.\n",
      "findfont: Font family 'NanumBarunGothic' not found.\n",
      "findfont: Font family 'NanumBarunGothic' not found.\n",
      "findfont: Font family 'NanumBarunGothic' not found.\n",
      "findfont: Font family 'NanumBarunGothic' not found.\n"
     ]
    },
    {
     "data": {
      "image/png": "[encoded data removed]",
      "text/plain": [
       "<Figure size 480x480 with 1 Axes>"
      ]
     },
     "metadata": {},
     "output_type": "display_data"
    }
   ],
   "source": [
    "plt.matshow(conf_mx, cmap=plt.cm.gray)\n",
    "plt.show()"
   ]
  },
  {
   "cell_type": "markdown",
   "id": "7a420cfe-c00e-4397-a03e-a325a148a8fb",
   "metadata": {},
   "source": [
    "이 오차 행렬은 대부분의 이미지가 주대각선에 있으므로 매우 좋아보인다.\n",
    "그 중 숫자 5는 다른 숫자보다 조금 더 어두워 보인다.\n",
    "이는 데이터셋에 숫자 5의 이미지가 적거나 분류기가 숫자 5를 다른 숫자만큼 잘 분류하지 못한다는 이야기이다.\n",
    "이 두 경우 모두를 확인해봐야 한다.\n",
    "\n",
    "<br>\n",
    "그래프의 에러 부분에 초점을 맞춰 살펴보자.\n",
    "먼저 오차 행렬의 각 값을 대응되는 클래스의 이미지 개수로 나누어 에러 비율을 비교한다. (이러면 이미지가 많으 클래스가 상대적으로 나쁘게 보인다.)"
   ]
  },
  {
   "cell_type": "code",
   "execution_count": 68,
   "id": "21363f17-bc2e-4363-b07f-94d40d2a6161",
   "metadata": {},
   "outputs": [
    {
     "name": "stderr",
     "output_type": "stream",
     "text": [
      "findfont: Font family 'NanumBarunGothic' not found.\n",
      "findfont: Font family 'NanumBarunGothic' not found.\n",
      "findfont: Font family 'NanumBarunGothic' not found.\n",
      "findfont: Font family 'NanumBarunGothic' not found.\n",
      "findfont: Font family 'NanumBarunGothic' not found.\n",
      "findfont: Font family 'NanumBarunGothic' not found.\n",
      "findfont: Font family 'NanumBarunGothic' not found.\n",
      "findfont: Font family 'NanumBarunGothic' not found.\n",
      "findfont: Font family 'NanumBarunGothic' not found.\n",
      "findfont: Font family 'NanumBarunGothic' not found.\n",
      "findfont: Font family 'NanumBarunGothic' not found.\n",
      "findfont: Font family 'NanumBarunGothic' not found.\n",
      "findfont: Font family 'NanumBarunGothic' not found.\n",
      "findfont: Font family 'NanumBarunGothic' not found.\n",
      "findfont: Font family 'NanumBarunGothic' not found.\n",
      "findfont: Font family 'NanumBarunGothic' not found.\n",
      "findfont: Font family 'NanumBarunGothic' not found.\n",
      "findfont: Font family 'NanumBarunGothic' not found.\n",
      "findfont: Font family 'NanumBarunGothic' not found.\n",
      "findfont: Font family 'NanumBarunGothic' not found.\n",
      "findfont: Font family 'NanumBarunGothic' not found.\n",
      "findfont: Font family 'NanumBarunGothic' not found.\n"
     ]
    },
    {
     "data": {
      "image/png": "[encoded data removed]",
      "text/plain": [
       "<Figure size 480x480 with 1 Axes>"
      ]
     },
     "metadata": {},
     "output_type": "display_data"
    }
   ],
   "source": [
    "row_sums = conf_mx.sum(axis=1, keepdims=True)\n",
    "norm_conf_mx = conf_mx / row_sums\n",
    "\n",
    "np.fill_diagonal(norm_conf_mx, 0)\n",
    "plt.matshow(norm_conf_mx, cmap=plt.cm.gray)\n",
    "plt.show()"
   ]
  },
  {
   "cell_type": "markdown",
   "id": "92bf8b70-9362-49ea-be22-5cdf4d971153",
   "metadata": {},
   "source": [
    "여기서 분류기가 만든 에러를 확실히 볼 수 있다.\n",
    "다시 말하지만 오차 행렬에서 행은 실제 클래스를 나타내고, 열은 예측한 클래스를 나타낸다!\n",
    "클래스 8의 열이 상당히 밝으므로 많은 이미지가 8로 잘못 분류됨을 알 수 있다.\n",
    "하지만 클래스 8의 행은 그리 나쁘지 않다.\n",
    "이는 실제 8 자체는 적절히 8로 분류되었음을 나타낸다.\n",
    "여기서 볼 수 있듯이 오차 행렬은 반드시 대칭인 것은 아니다.\n",
    "\n",
    "오차 행렬을 분석하면 분류기의 성능 향상 방안에 대한 통찰을 얻을 수 있다.\n",
    "이 그래프를 살펴보면 8로 잘못 분류되는 것을 줄이도록 개선할 필요가 있다.\n",
    "예를 들어 8처럼 보이는 숫자의 훈련 데이터를 더 많이 모아서 실제 8과 구분하도록 분류기를 학습시킬 수 있다."
   ]
  },
  {
   "cell_type": "markdown",
   "id": "13c0f40c-dd45-41d1-b9e4-2e9e1ec699ad",
   "metadata": {},
   "source": [
    "# 다중 레이블 분류\n",
    "지금까지는 각 샘플이 하나의 클래스에만 할당되었다.\n",
    "하지만 분류기가 샘플마다 여러 개의 클래스를 출력해야 할 때도 있다.\n",
    "얼굴 인식 분류기를 한 번 생각해보자.\n",
    "같은 사진에 여러 사람이 등장한다면 인식된 사람마다 하나씩 꼬리표(tag)를 붙여야 한다.\n",
    "분류기가 앨리스, 밥, 찰리 세 얼굴을 인식하도록 훈련되엇다고 가정하자.\n",
    "분류기가 만약 앨리스와 찰리가 있는 사진을 본다면 [1, 0, 1]을 출력해야 할 것이다.\n",
    "이처럼 여러 개의 이진 꼬리표를 출력하는 분류 시스템을 다중 레이블 분류 시스템이라고 한다!\n",
    "여기서는 더 간단한 예를 살펴보겠다."
   ]
  },
  {
   "cell_type": "code",
   "execution_count": 70,
   "id": "122a7522-0efe-48c1-a082-88d06acdadd9",
   "metadata": {},
   "outputs": [
    {
     "data": {
      "text/html": [
       "<style>#sk-container-id-2 {\n",
       "  /* Definition of color scheme common for light and dark mode */\n",
       "  --sklearn-color-text: black;\n",
       "  --sklearn-color-line: gray;\n",
       "  /* Definition of color scheme for unfitted estimators */\n",
       "  --sklearn-color-unfitted-level-0: #fff5e6;\n",
       "  --sklearn-color-unfitted-level-1: #f6e4d2;\n",
       "  --sklearn-color-unfitted-level-2: #ffe0b3;\n",
       "  --sklearn-color-unfitted-level-3: chocolate;\n",
       "  /* Definition of color scheme for fitted estimators */\n",
       "  --sklearn-color-fitted-level-0: #f0f8ff;\n",
       "  --sklearn-color-fitted-level-1: #d4ebff;\n",
       "  --sklearn-color-fitted-level-2: #b3dbfd;\n",
       "  --sklearn-color-fitted-level-3: cornflowerblue;\n",
       "\n",
       "  /* Specific color for light theme */\n",
       "  --sklearn-color-text-on-default-background: var(--sg-text-color, var(--theme-code-foreground, var(--jp-content-font-color1, black)));\n",
       "  --sklearn-color-background: var(--sg-background-color, var(--theme-background, var(--jp-layout-color0, white)));\n",
       "  --sklearn-color-border-box: var(--sg-text-color, var(--theme-code-foreground, var(--jp-content-font-color1, black)));\n",
       "  --sklearn-color-icon: #696969;\n",
       "\n",
       "  @media (prefers-color-scheme: dark) {\n",
       "    /* Redefinition of color scheme for dark theme */\n",
       "    --sklearn-color-text-on-default-background: var(--sg-text-color, var(--theme-code-foreground, var(--jp-content-font-color1, white)));\n",
       "    --sklearn-color-background: var(--sg-background-color, var(--theme-background, var(--jp-layout-color0, #111)));\n",
       "    --sklearn-color-border-box: var(--sg-text-color, var(--theme-code-foreground, var(--jp-content-font-color1, white)));\n",
       "    --sklearn-color-icon: #878787;\n",
       "  }\n",
       "}\n",
       "\n",
       "#sk-container-id-2 {\n",
       "  color: var(--sklearn-color-text);\n",
       "}\n",
       "\n",
       "#sk-container-id-2 pre {\n",
       "  padding: 0;\n",
       "}\n",
       "\n",
       "#sk-container-id-2 input.sk-hidden--visually {\n",
       "  border: 0;\n",
       "  clip: rect(1px 1px 1px 1px);\n",
       "  clip: rect(1px, 1px, 1px, 1px);\n",
       "  height: 1px;\n",
       "  margin: -1px;\n",
       "  overflow: hidden;\n",
       "  padding: 0;\n",
       "  position: absolute;\n",
       "  width: 1px;\n",
       "}\n",
       "\n",
       "#sk-container-id-2 div.sk-dashed-wrapped {\n",
       "  border: 1px dashed var(--sklearn-color-line);\n",
       "  margin: 0 0.4em 0.5em 0.4em;\n",
       "  box-sizing: border-box;\n",
       "  padding-bottom: 0.4em;\n",
       "  background-color: var(--sklearn-color-background);\n",
       "}\n",
       "\n",
       "#sk-container-id-2 div.sk-container {\n",
       "  /* jupyter's `normalize.less` sets `[hidden] { display: none; }`\n",
       "     but bootstrap.min.css set `[hidden] { display: none !important; }`\n",
       "     so we also need the `!important` here to be able to override the\n",
       "     default hidden behavior on the sphinx rendered scikit-learn.org.\n",
       "     See: https://github.com/scikit-learn/scikit-learn/issues/21755 */\n",
       "  display: inline-block !important;\n",
       "  position: relative;\n",
       "}\n",
       "\n",
       "#sk-container-id-2 div.sk-text-repr-fallback {\n",
       "  display: none;\n",
       "}\n",
       "\n",
       "div.sk-parallel-item,\n",
       "div.sk-serial,\n",
       "div.sk-item {\n",
       "  /* draw centered vertical line to link estimators */\n",
       "  background-image: linear-gradient(var(--sklearn-color-text-on-default-background), var(--sklearn-color-text-on-default-background));\n",
       "  background-size: 2px 100%;\n",
       "  background-repeat: no-repeat;\n",
       "  background-position: center center;\n",
       "}\n",
       "\n",
       "/* Parallel-specific style estimator block */\n",
       "\n",
       "#sk-container-id-2 div.sk-parallel-item::after {\n",
       "  content: \"\";\n",
       "  width: 100%;\n",
       "  border-bottom: 2px solid var(--sklearn-color-text-on-default-background);\n",
       "  flex-grow: 1;\n",
       "}\n",
       "\n",
       "#sk-container-id-2 div.sk-parallel {\n",
       "  display: flex;\n",
       "  align-items: stretch;\n",
       "  justify-content: center;\n",
       "  background-color: var(--sklearn-color-background);\n",
       "  position: relative;\n",
       "}\n",
       "\n",
       "#sk-container-id-2 div.sk-parallel-item {\n",
       "  display: flex;\n",
       "  flex-direction: column;\n",
       "}\n",
       "\n",
       "#sk-container-id-2 div.sk-parallel-item:first-child::after {\n",
       "  align-self: flex-end;\n",
       "  width: 50%;\n",
       "}\n",
       "\n",
       "#sk-container-id-2 div.sk-parallel-item:last-child::after {\n",
       "  align-self: flex-start;\n",
       "  width: 50%;\n",
       "}\n",
       "\n",
       "#sk-container-id-2 div.sk-parallel-item:only-child::after {\n",
       "  width: 0;\n",
       "}\n",
       "\n",
       "/* Serial-specific style estimator block */\n",
       "\n",
       "#sk-container-id-2 div.sk-serial {\n",
       "  display: flex;\n",
       "  flex-direction: column;\n",
       "  align-items: center;\n",
       "  background-color: var(--sklearn-color-background);\n",
       "  padding-right: 1em;\n",
       "  padding-left: 1em;\n",
       "}\n",
       "\n",
       "\n",
       "/* Toggleable style: style used for estimator/Pipeline/ColumnTransformer box that is\n",
       "clickable and can be expanded/collapsed.\n",
       "- Pipeline and ColumnTransformer use this feature and define the default style\n",
       "- Estimators will overwrite some part of the style using the `sk-estimator` class\n",
       "*/\n",
       "\n",
       "/* Pipeline and ColumnTransformer style (default) */\n",
       "\n",
       "#sk-container-id-2 div.sk-toggleable {\n",
       "  /* Default theme specific background. It is overwritten whether we have a\n",
       "  specific estimator or a Pipeline/ColumnTransformer */\n",
       "  background-color: var(--sklearn-color-background);\n",
       "}\n",
       "\n",
       "/* Toggleable label */\n",
       "#sk-container-id-2 label.sk-toggleable__label {\n",
       "  cursor: pointer;\n",
       "  display: block;\n",
       "  width: 100%;\n",
       "  margin-bottom: 0;\n",
       "  padding: 0.5em;\n",
       "  box-sizing: border-box;\n",
       "  text-align: center;\n",
       "}\n",
       "\n",
       "#sk-container-id-2 label.sk-toggleable__label-arrow:before {\n",
       "  /* Arrow on the left of the label */\n",
       "  content: \"▸\";\n",
       "  float: left;\n",
       "  margin-right: 0.25em;\n",
       "  color: var(--sklearn-color-icon);\n",
       "}\n",
       "\n",
       "#sk-container-id-2 label.sk-toggleable__label-arrow:hover:before {\n",
       "  color: var(--sklearn-color-text);\n",
       "}\n",
       "\n",
       "/* Toggleable content - dropdown */\n",
       "\n",
       "#sk-container-id-2 div.sk-toggleable__content {\n",
       "  max-height: 0;\n",
       "  max-width: 0;\n",
       "  overflow: hidden;\n",
       "  text-align: left;\n",
       "  /* unfitted */\n",
       "  background-color: var(--sklearn-color-unfitted-level-0);\n",
       "}\n",
       "\n",
       "#sk-container-id-2 div.sk-toggleable__content.fitted {\n",
       "  /* fitted */\n",
       "  background-color: var(--sklearn-color-fitted-level-0);\n",
       "}\n",
       "\n",
       "#sk-container-id-2 div.sk-toggleable__content pre {\n",
       "  margin: 0.2em;\n",
       "  border-radius: 0.25em;\n",
       "  color: var(--sklearn-color-text);\n",
       "  /* unfitted */\n",
       "  background-color: var(--sklearn-color-unfitted-level-0);\n",
       "}\n",
       "\n",
       "#sk-container-id-2 div.sk-toggleable__content.fitted pre {\n",
       "  /* unfitted */\n",
       "  background-color: var(--sklearn-color-fitted-level-0);\n",
       "}\n",
       "\n",
       "#sk-container-id-2 input.sk-toggleable__control:checked~div.sk-toggleable__content {\n",
       "  /* Expand drop-down */\n",
       "  max-height: 200px;\n",
       "  max-width: 100%;\n",
       "  overflow: auto;\n",
       "}\n",
       "\n",
       "#sk-container-id-2 input.sk-toggleable__control:checked~label.sk-toggleable__label-arrow:before {\n",
       "  content: \"▾\";\n",
       "}\n",
       "\n",
       "/* Pipeline/ColumnTransformer-specific style */\n",
       "\n",
       "#sk-container-id-2 div.sk-label input.sk-toggleable__control:checked~label.sk-toggleable__label {\n",
       "  color: var(--sklearn-color-text);\n",
       "  background-color: var(--sklearn-color-unfitted-level-2);\n",
       "}\n",
       "\n",
       "#sk-container-id-2 div.sk-label.fitted input.sk-toggleable__control:checked~label.sk-toggleable__label {\n",
       "  background-color: var(--sklearn-color-fitted-level-2);\n",
       "}\n",
       "\n",
       "/* Estimator-specific style */\n",
       "\n",
       "/* Colorize estimator box */\n",
       "#sk-container-id-2 div.sk-estimator input.sk-toggleable__control:checked~label.sk-toggleable__label {\n",
       "  /* unfitted */\n",
       "  background-color: var(--sklearn-color-unfitted-level-2);\n",
       "}\n",
       "\n",
       "#sk-container-id-2 div.sk-estimator.fitted input.sk-toggleable__control:checked~label.sk-toggleable__label {\n",
       "  /* fitted */\n",
       "  background-color: var(--sklearn-color-fitted-level-2);\n",
       "}\n",
       "\n",
       "#sk-container-id-2 div.sk-label label.sk-toggleable__label,\n",
       "#sk-container-id-2 div.sk-label label {\n",
       "  /* The background is the default theme color */\n",
       "  color: var(--sklearn-color-text-on-default-background);\n",
       "}\n",
       "\n",
       "/* On hover, darken the color of the background */\n",
       "#sk-container-id-2 div.sk-label:hover label.sk-toggleable__label {\n",
       "  color: var(--sklearn-color-text);\n",
       "  background-color: var(--sklearn-color-unfitted-level-2);\n",
       "}\n",
       "\n",
       "/* Label box, darken color on hover, fitted */\n",
       "#sk-container-id-2 div.sk-label.fitted:hover label.sk-toggleable__label.fitted {\n",
       "  color: var(--sklearn-color-text);\n",
       "  background-color: var(--sklearn-color-fitted-level-2);\n",
       "}\n",
       "\n",
       "/* Estimator label */\n",
       "\n",
       "#sk-container-id-2 div.sk-label label {\n",
       "  font-family: monospace;\n",
       "  font-weight: bold;\n",
       "  display: inline-block;\n",
       "  line-height: 1.2em;\n",
       "}\n",
       "\n",
       "#sk-container-id-2 div.sk-label-container {\n",
       "  text-align: center;\n",
       "}\n",
       "\n",
       "/* Estimator-specific */\n",
       "#sk-container-id-2 div.sk-estimator {\n",
       "  font-family: monospace;\n",
       "  border: 1px dotted var(--sklearn-color-border-box);\n",
       "  border-radius: 0.25em;\n",
       "  box-sizing: border-box;\n",
       "  margin-bottom: 0.5em;\n",
       "  /* unfitted */\n",
       "  background-color: var(--sklearn-color-unfitted-level-0);\n",
       "}\n",
       "\n",
       "#sk-container-id-2 div.sk-estimator.fitted {\n",
       "  /* fitted */\n",
       "  background-color: var(--sklearn-color-fitted-level-0);\n",
       "}\n",
       "\n",
       "/* on hover */\n",
       "#sk-container-id-2 div.sk-estimator:hover {\n",
       "  /* unfitted */\n",
       "  background-color: var(--sklearn-color-unfitted-level-2);\n",
       "}\n",
       "\n",
       "#sk-container-id-2 div.sk-estimator.fitted:hover {\n",
       "  /* fitted */\n",
       "  background-color: var(--sklearn-color-fitted-level-2);\n",
       "}\n",
       "\n",
       "/* Specification for estimator info (e.g. \"i\" and \"?\") */\n",
       "\n",
       "/* Common style for \"i\" and \"?\" */\n",
       "\n",
       ".sk-estimator-doc-link,\n",
       "a:link.sk-estimator-doc-link,\n",
       "a:visited.sk-estimator-doc-link {\n",
       "  float: right;\n",
       "  font-size: smaller;\n",
       "  line-height: 1em;\n",
       "  font-family: monospace;\n",
       "  background-color: var(--sklearn-color-background);\n",
       "  border-radius: 1em;\n",
       "  height: 1em;\n",
       "  width: 1em;\n",
       "  text-decoration: none !important;\n",
       "  margin-left: 1ex;\n",
       "  /* unfitted */\n",
       "  border: var(--sklearn-color-unfitted-level-1) 1pt solid;\n",
       "  color: var(--sklearn-color-unfitted-level-1);\n",
       "}\n",
       "\n",
       ".sk-estimator-doc-link.fitted,\n",
       "a:link.sk-estimator-doc-link.fitted,\n",
       "a:visited.sk-estimator-doc-link.fitted {\n",
       "  /* fitted */\n",
       "  border: var(--sklearn-color-fitted-level-1) 1pt solid;\n",
       "  color: var(--sklearn-color-fitted-level-1);\n",
       "}\n",
       "\n",
       "/* On hover */\n",
       "div.sk-estimator:hover .sk-estimator-doc-link:hover,\n",
       ".sk-estimator-doc-link:hover,\n",
       "div.sk-label-container:hover .sk-estimator-doc-link:hover,\n",
       ".sk-estimator-doc-link:hover {\n",
       "  /* unfitted */\n",
       "  background-color: var(--sklearn-color-unfitted-level-3);\n",
       "  color: var(--sklearn-color-background);\n",
       "  text-decoration: none;\n",
       "}\n",
       "\n",
       "div.sk-estimator.fitted:hover .sk-estimator-doc-link.fitted:hover,\n",
       ".sk-estimator-doc-link.fitted:hover,\n",
       "div.sk-label-container:hover .sk-estimator-doc-link.fitted:hover,\n",
       ".sk-estimator-doc-link.fitted:hover {\n",
       "  /* fitted */\n",
       "  background-color: var(--sklearn-color-fitted-level-3);\n",
       "  color: var(--sklearn-color-background);\n",
       "  text-decoration: none;\n",
       "}\n",
       "\n",
       "/* Span, style for the box shown on hovering the info icon */\n",
       ".sk-estimator-doc-link span {\n",
       "  display: none;\n",
       "  z-index: 9999;\n",
       "  position: relative;\n",
       "  font-weight: normal;\n",
       "  right: .2ex;\n",
       "  padding: .5ex;\n",
       "  margin: .5ex;\n",
       "  width: min-content;\n",
       "  min-width: 20ex;\n",
       "  max-width: 50ex;\n",
       "  color: var(--sklearn-color-text);\n",
       "  box-shadow: 2pt 2pt 4pt #999;\n",
       "  /* unfitted */\n",
       "  background: var(--sklearn-color-unfitted-level-0);\n",
       "  border: .5pt solid var(--sklearn-color-unfitted-level-3);\n",
       "}\n",
       "\n",
       ".sk-estimator-doc-link.fitted span {\n",
       "  /* fitted */\n",
       "  background: var(--sklearn-color-fitted-level-0);\n",
       "  border: var(--sklearn-color-fitted-level-3);\n",
       "}\n",
       "\n",
       ".sk-estimator-doc-link:hover span {\n",
       "  display: block;\n",
       "}\n",
       "\n",
       "/* \"?\"-specific style due to the `<a>` HTML tag */\n",
       "\n",
       "#sk-container-id-2 a.estimator_doc_link {\n",
       "  float: right;\n",
       "  font-size: 1rem;\n",
       "  line-height: 1em;\n",
       "  font-family: monospace;\n",
       "  background-color: var(--sklearn-color-background);\n",
       "  border-radius: 1rem;\n",
       "  height: 1rem;\n",
       "  width: 1rem;\n",
       "  text-decoration: none;\n",
       "  /* unfitted */\n",
       "  color: var(--sklearn-color-unfitted-level-1);\n",
       "  border: var(--sklearn-color-unfitted-level-1) 1pt solid;\n",
       "}\n",
       "\n",
       "#sk-container-id-2 a.estimator_doc_link.fitted {\n",
       "  /* fitted */\n",
       "  border: var(--sklearn-color-fitted-level-1) 1pt solid;\n",
       "  color: var(--sklearn-color-fitted-level-1);\n",
       "}\n",
       "\n",
       "/* On hover */\n",
       "#sk-container-id-2 a.estimator_doc_link:hover {\n",
       "  /* unfitted */\n",
       "  background-color: var(--sklearn-color-unfitted-level-3);\n",
       "  color: var(--sklearn-color-background);\n",
       "  text-decoration: none;\n",
       "}\n",
       "\n",
       "#sk-container-id-2 a.estimator_doc_link.fitted:hover {\n",
       "  /* fitted */\n",
       "  background-color: var(--sklearn-color-fitted-level-3);\n",
       "}\n",
       "</style><div id=\"sk-container-id-2\" class=\"sk-top-container\"><div class=\"sk-text-repr-fallback\"><pre>KNeighborsClassifier()</pre><b>In a Jupyter environment, please rerun this cell to show the HTML representation or trust the notebook. <br />On GitHub, the HTML representation is unable to render, please try loading this page with nbviewer.org.</b></div><div class=\"sk-container\" hidden><div class=\"sk-item\"><div class=\"sk-estimator fitted sk-toggleable\"><input class=\"sk-toggleable__control sk-hidden--visually\" id=\"sk-estimator-id-2\" type=\"checkbox\" checked><label for=\"sk-estimator-id-2\" class=\"sk-toggleable__label fitted sk-toggleable__label-arrow fitted\">&nbsp;&nbsp;KNeighborsClassifier<a class=\"sk-estimator-doc-link fitted\" rel=\"noreferrer\" target=\"_blank\" href=\"https://scikit-learn.org/1.5/modules/generated/sklearn.neighbors.KNeighborsClassifier.html\">?<span>Documentation for KNeighborsClassifier</span></a><span class=\"sk-estimator-doc-link fitted\">i<span>Fitted</span></span></label><div class=\"sk-toggleable__content fitted\"><pre>KNeighborsClassifier()</pre></div> </div></div></div></div>"
      ],
      "text/plain": [
       "KNeighborsClassifier()"
      ]
     },
     "execution_count": 70,
     "metadata": {},
     "output_type": "execute_result"
    }
   ],
   "source": [
    "from sklearn.neighbors import KNeighborsClassifier\n",
    "\n",
    "y_train_large = (y_train >= 7) # 7,8,9 인지\n",
    "y_train_odd = (y_train % 2 == 1) # 홀수인지\n",
    "y_multilabel = np.c_[y_train_large, y_train_odd] #다중타깃배열 : 첫번째 열 7,8,9인지 두 번째 열 홀수인지\n",
    "\n",
    "knn_clf = KNeighborsClassifier()\n",
    "knn_clf.fit(X_train, y_multilabel)"
   ]
  },
  {
   "cell_type": "markdown",
   "id": "a198c36c-06fe-42bf-99c5-b4c7ac3eb60e",
   "metadata": {},
   "source": [
    "이 코드는 각 숫자 이미지에 두 개의 타깃 레이블이 담긴 y_multilabel 배열을 만든다.\n",
    "첫 번째 열은 숫자가 7,8,9인지 나타내고, 두 번째는 홀수인지 나타낸다.\n",
    "그 다음 줄이 KNeighborsClassifier 인스턴스를 만들고 다중 타깃 배열을 사용해서 훈련시킨다.\n",
    "(여기서 KNeighborClassifier는 다중 레이블 분류를 지원하지만 모든 분류기가 그런 것은 아니다!)\n",
    "이제 예측을 만들면 레이블이 두 개 출력된다."
   ]
  },
  {
   "cell_type": "code",
   "execution_count": 72,
   "id": "72e4103f-4129-432c-b7f4-f9e0ea722efb",
   "metadata": {},
   "outputs": [
    {
     "data": {
      "text/plain": [
       "array([[ True,  True]])"
      ]
     },
     "execution_count": 72,
     "metadata": {},
     "output_type": "execute_result"
    }
   ],
   "source": [
    "knn_clf.predict([some_digit]) #...? 왜 이렇게 나오는지 모르겠다. [False, True]가 정상인데"
   ]
  },
  {
   "cell_type": "markdown",
   "id": "e79ce115-d9ad-4c16-bbe1-61c86fb957c5",
   "metadata": {},
   "source": [
    "다중 레이블 분류기를 평가하는 방법은 많다. 적절한 지표는 프로젝트에 따라 다르다. \n",
    "예를 들어 각 레이블의 F1 점수를 구하고 간단하게 평균 점수를 계산한다.\n",
    "다음 코드는 모든 레이블에 대한 F1 점수의 평균을 계산한다."
   ]
  },
  {
   "cell_type": "code",
   "execution_count": 73,
   "id": "39a1eada-cf4b-43dc-98c7-d191244562d4",
   "metadata": {},
   "outputs": [
    {
     "data": {
      "text/plain": [
       "np.float64(0.9764102655606048)"
      ]
     },
     "execution_count": 73,
     "metadata": {},
     "output_type": "execute_result"
    }
   ],
   "source": [
    "y_train_knn_pred = cross_val_predict(knn_clf, X_train, y_multilabel, cv=3)\n",
    "f1_score(y_multilabel, y_train_knn_pred, average=\"macro\")"
   ]
  },
  {
   "cell_type": "markdown",
   "id": "d183eab6-038d-4fac-b0b8-e3dd8d4af6a2",
   "metadata": {},
   "source": [
    "# 다중 출력 분류\n",
    "마지막으로 알아볼 분류 작업은 다중 출력 다중 클래스 분류이다.<br>\n",
    "다중 레이블 분류에서 한 레이블이 다중 클래스가 될 수 있도록 일반화한 것이다.<br>\n",
    "이를 위해 이미지에서 잡음을 제거하는 시스템을 만들어보겠다.<br>\n",
    "잡음이 많은 숫자 이미지를 입력으로 받고, 깨끗한 숫자 이미지를 MNIST 이미지처럼 픽셀의 intensity를 담은 배열로 출력한다. <br>\n",
    "분류기의 출력이 다중 레이블이고 (픽셀당 한 레이블) 각 레이블은 값을 여러개 갖는다(0~255 - 이걸 회귀가 아니라 분류로 본 것!)\n",
    "\n",
    "<br>\n",
    "먼저 MNIST 이미지에서 추출한 훈련 세트와 테스트 세트에 넘파이의 randint() 함수를 사용하여 픽셀 강도에 잡음을 추가하겠다.\n",
    "타깃 이미지는 원본 이미지가 될 것이다."
   ]
  },
  {
   "cell_type": "code",
   "execution_count": 76,
   "id": "65ba698c-8e0d-4e25-9edb-44836aed22ab",
   "metadata": {},
   "outputs": [],
   "source": [
    "noise = np.random.randint(0, 100, (len(X_train), 784)) #모든 픽셀 intensity에 노이즈 배열 만들어\n",
    "X_train_mod = X_train + noise #여기서 노이즈 부여\n",
    "noise = np.random.randint(0, 100, (len(X_test), 784)) #이건 test를 위한 노이즈\n",
    "X_test_mod = X_test + noise #노이즈 부여\n",
    "y_train_mod = X_train\n",
    "y_test_mod = X_test"
   ]
  },
  {
   "cell_type": "markdown",
   "id": "c9c0a091-e14c-4f4a-b25b-318b6e368fdc",
   "metadata": {},
   "source": [
    "이제 분류기를 훈련시켜 이 이미지를 깨끗하게 만들어보겠다."
   ]
  },
  {
   "cell_type": "code",
   "execution_count": 85,
   "id": "86959681-bcf1-4b49-845f-6afc19073b4d",
   "metadata": {},
   "outputs": [],
   "source": [
    "def plot_digit(data):\n",
    "    image = data.reshape(28, 28)\n",
    "    plt.imshow(image, cmap = matplotlib.cm.binary,\n",
    "               interpolation=\"nearest\")\n",
    "    plt.axis(\"off\")"
   ]
  },
  {
   "cell_type": "code",
   "execution_count": 87,
   "id": "cdd8e265-fcf5-437a-af1a-86edaaffe9b8",
   "metadata": {},
   "outputs": [
    {
     "data": {
      "image/png": "[encoded data removed]",
      "text/plain": [
       "<Figure size 640x480 with 1 Axes>"
      ]
     },
     "metadata": {},
     "output_type": "display_data"
    }
   ],
   "source": [
    "some_index = 5500\n",
    "knn_clf.fit(X_train_mod, y_train_mod)\n",
    "clean_digit = knn_clf.predict([X_test_mod[some_index]])\n",
    "plot_digit(clean_digit)"
   ]
  },
  {
   "cell_type": "code",
   "execution_count": null,
   "id": "1ba077ba-9010-49ce-9de1-00ed1cec43e8",
   "metadata": {},
   "outputs": [],
   "source": []
  }
 ],
 "metadata": {
  "kernelspec": {
   "display_name": "Python 3 (ipykernel)",
   "language": "python",
   "name": "python3"
  },
  "language_info": {
   "codemirror_mode": {
    "name": "ipython",
    "version": 3
   },
   "file_extension": ".py",
   "mimetype": "text/x-python",
   "name": "python",
   "nbconvert_exporter": "python",
   "pygments_lexer": "ipython3",
   "version": "3.12.4"
  }
 },
 "nbformat": 4,
 "nbformat_minor": 5
}
